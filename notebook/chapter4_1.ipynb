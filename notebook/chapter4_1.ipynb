{
 "cells": [
  {
   "attachments": {},
   "cell_type": "markdown",
   "metadata": {},
   "source": [
    "### 第4章画像分類"
   ]
  },
  {
   "attachments": {},
   "cell_type": "markdown",
   "metadata": {},
   "source": [
    "#### FNNモデルの実装"
   ]
  },
  {
   "cell_type": "code",
   "execution_count": 14,
   "metadata": {},
   "outputs": [],
   "source": [
    "from collections import deque\n",
    "import copy\n",
    "import numpy as np\n",
    "import random\n",
    "from tqdm import tqdm\n",
    "from PIL import Image\n",
    "from typing import Callable\n",
    "import matplotlib.pyplot as plt\n",
    "from sklearn.manifold import TSNE\n",
    "\n",
    "import torch\n",
    "from torch import nn, optim\n",
    "import torch.nn.functional as F\n",
    "from torch.utils.data import Dataset, DataLoader\n",
    "from torch.utils.data.sampler import SubsetRandomSampler\n",
    "import torchvision\n",
    "\n",
    "# 外部モジュール\n",
    "# import util\n",
    "# import transform"
   ]
  },
  {
   "cell_type": "code",
   "execution_count": 22,
   "metadata": {},
   "outputs": [],
   "source": [
    "# FNN(順伝播型ニューラルネットワークモデル)の実装\n",
    "class FNN(nn.Module):\n",
    "    \"\"\"\n",
    "    順伝播型ニューラルネットワーク\n",
    "    dim_input         : 入力次元\n",
    "    dim_hidden        : 特徴量次元\n",
    "    num_hidden_layers : 隠れ層の数\n",
    "    num_classes       : 分類対象の物体クラス数\n",
    "    \"\"\"\n",
    "    def __init__(self, dim_input: int, dim_hidden: int,\n",
    "                 num_hidden_layers: int, num_classes: int):\n",
    "        super().__init__()\n",
    "        \n",
    "        \"\"\"層の生成\"\"\"\n",
    "        self.layers = nn.ModuleList()\n",
    "        \n",
    "        # 入力層->隠れ層\n",
    "        self.layers.append(self._generate_hidden_layer(\n",
    "            dim_input, dim_hidden\n",
    "        ))\n",
    "        \n",
    "        # 隠れ層->隠れ層\n",
    "        for _ in range(num_hidden_layers - 1):\n",
    "            self.layers.append(self._generate_hidden_layer(\n",
    "                dim_hidden, dim_hidden\n",
    "            ))\n",
    "        \n",
    "        # 隠れ層->出力層\n",
    "        self.linear = nn.Linear(dim_hidden, num_classes)\n",
    "        \"\"\"\"\"\"\n",
    "        \n",
    "    \"\"\"\n",
    "    隠れ層生成関数\n",
    "    dim_input  : 入力次元\n",
    "    dim_output : 出力次元\n",
    "    \"\"\"\n",
    "    def _generate_hidden_layer(self, dim_input: int, dim_output: int):\n",
    "        layer = nn.Sequential(\n",
    "            nn.Linear(dim_input, dim_output, bias=False),\n",
    "            nn.BatchNorm1d(dim_output),\n",
    "            nn.ReLU(inplace=True)\n",
    "        )\n",
    "        \n",
    "        return layer\n",
    "    \n",
    "    \"\"\"\n",
    "    順伝播関数\n",
    "    x            : 入力, [バッチサイズ, 入力次元]\n",
    "    return_embed : 特徴量(最後の全結合層を適用する前)を返すかロジット(全結合層を適用した値)を返すかを選択する真偽値 \n",
    "    \"\"\"\n",
    "    def forward(self, x: torch.Tensor, return_embed: bool=False):\n",
    "        h = x\n",
    "        for layer in self.layers:\n",
    "            h = layer(h)\n",
    "            \n",
    "        # return_embedがTrueの場合、特徴量を返す\n",
    "        if return_embed:\n",
    "            return h\n",
    "        \n",
    "        y = self.linear(h)\n",
    "        \n",
    "        # return_embedがFalseの場合、ロジットを返す\n",
    "        return y\n",
    "    \n",
    "    \"\"\"\n",
    "    モデルパラメータは保持されているデバイスを返す関数\n",
    "    \"\"\"\n",
    "    def get_device(self):\n",
    "        return self.linear.weight.device # モデルを保持するデバイスを返す\n",
    "    \n",
    "    \"\"\"\n",
    "    モデルを複製して返す関数\n",
    "    \"\"\"\n",
    "    def copy(self):\n",
    "        return copy.deepcopy(self)\n",
    "    "
   ]
  },
  {
   "cell_type": "code",
   "execution_count": 32,
   "metadata": {},
   "outputs": [],
   "source": [
    "# 学習・評価におけるハイパーパラメータやオプションの設定\n",
    "class Config:\n",
    "    \"\"\"\n",
    "    ハイパーパラメータとオプションの設定\n",
    "    \"\"\"\n",
    "    def __init__(self):\n",
    "        self.var_ratio = 0.2 # 検証に使う学習セット内のデータの割合\n",
    "        self.dim_hidden = 512 # 隠れ層の特徴量次元\n",
    "        self.num_hidden_layers = 2 # 隠れ層の数\n",
    "        self.num_epochs = 30 # 学習エポック数\n",
    "        self.lr = 1e-2 # 学習率\n",
    "        self.moving_avg = 20 # 移動平均で計算する損失と正確度の値の数\n",
    "        self.batch_size = 32 # バッチサイズ\n",
    "        self.num_workers = 2 # データローダに使うCPUの数\n",
    "        self.device = 'cuda' # 学習に使うデバイス\n",
    "        self.num_samples = 200 # t-SNEでプロットするサンプル数"
   ]
  },
  {
   "cell_type": "code",
   "execution_count": 33,
   "metadata": {},
   "outputs": [],
   "source": [
    "# 評価関数\n",
    "def evaluate(data_loader: DataLoader, model: nn.Module, loss_func: Callable):\n",
    "    model.eval()\n",
    "    \n",
    "    losses = []\n",
    "    preds = []\n",
    "    for x, y in data_loader:\n",
    "        with torch.no_grad():\n",
    "            x = x.to(model.get_device())\n",
    "            y = y.to(model.get_device())\n",
    "            \n",
    "            y_pred = model(x)\n",
    "            \n",
    "            losses.append(loss_func(y_pred, y, reduction='none'))\n",
    "            preds.append(y_pred.argmax(dim=1) == y)\n",
    "            \n",
    "    loss = torch.cat(losses).mean()\n",
    "    accuracy = torch.cat(preds).float().mean()\n",
    "    \n",
    "    return loss, accuracy"
   ]
  },
  {
   "cell_type": "code",
   "execution_count": 34,
   "metadata": {},
   "outputs": [],
   "source": [
    "# t-SNEを使った特徴量のプロット関数\n",
    "\"\"\"\n",
    "t-SNEのプロット関数\n",
    "data_loader : プロット対象のデータを読み込むデータローダ\n",
    "model       : 特徴量抽出に使うモデル\n",
    "num_samples : t-SNEでプロットするサンプル数\n",
    "\"\"\"\n",
    "def plot_t_sne(data_loader: DataLoader, model: nn.Module,\n",
    "               num_samples: int):\n",
    "    model.eval()\n",
    "    \n",
    "    # t-SNEのためのデータ整形\n",
    "    x = []\n",
    "    y = []\n",
    "    for imgs, labels in data_loader:\n",
    "        with torch.no_grad():\n",
    "            imgs = imgs.to(model.get_device())\n",
    "            \n",
    "            # 特徴量の抽出\n",
    "            embeddings = model(imgs, return_embed=True)\n",
    "            \n",
    "            x.append(embeddings.to('cpu'))\n",
    "            y.append(labels.clone())\n",
    "            \n",
    "    x = torch.cat(x)\n",
    "    y = torch.cat(y)\n",
    "    \n",
    "    # NumPy配列に変換\n",
    "    x = x.numpy()\n",
    "    y = y.numpy()\n",
    "    \n",
    "    # 指定サンプル数だけ抽出\n",
    "    x = x[:num_samples]\n",
    "    y = y[:num_samples]\n",
    "    \n",
    "    # t-SNEを適用\n",
    "    t_sne = TSNE(n_components=2, random_state=42)\n",
    "    x_reduced = t_sne.fit_transform(x)\n",
    "    \n",
    "    # 各ラベルとマーカーを設定\n",
    "    cmap = plt.get_cmap(\"tab10\")\n",
    "    markers = ['4', '8', 's', 'p', '*', 'h', 'H', '+', 'x', 'D']\n",
    "    \n",
    "    # データをプロット\n",
    "    plt.figure(figsize=(20, 15))\n",
    "    for i, cls in enumerate(data_loader.dataset.classes):\n",
    "        plt.scatter(x_reduced[y==i, 0], x_reduced[y==i, 1],\n",
    "                    c=[cmap(i/len(data_loader.dataset.classes))],\n",
    "                    marker=markers[i], s=500, alpha=0.6, label=cls)\n",
    "        plt.axis('off')\n",
    "        plt.legend(bbox_to_anchor=(1, 1), fontsize=24, framealpha=0)\n",
    "    plt.show()"
   ]
  },
  {
   "cell_type": "code",
   "execution_count": 35,
   "metadata": {},
   "outputs": [],
   "source": [
    "# 画像整形関数\n",
    "\"\"\"\n",
    "img         : 整形対象の画像\n",
    "channel_mean: 各次元のデータセット全体の平均、[入力次元]\n",
    "channel_std : 各次元のデータセット全体の標準偏差、[入力次元]  \n",
    "\"\"\"\n",
    "def transform(img: Image.Image, channel_mean: np.ndarray=None,\n",
    "              channel_std: np.ndarray=None):\n",
    "    # PILからNumPy配列に変換\n",
    "    img = np.asarray(img, dtype='float32')\n",
    "    \n",
    "    # [32, 32, 3]の画像を3072次元のベクトルに平坦化\n",
    "    x = img.flatten()\n",
    "    \n",
    "    # 各次元をデータセット全体の平均と標準偏差で正規化\n",
    "    if channel_mean is not None and channel_std is not None:\n",
    "        x = (x - channel_mean) / channel_std\n",
    "    \n",
    "    return x\n",
    "\n",
    "# 各次元のデータセット全体の平均と標準偏差を計算する関数\n",
    "\"\"\"\n",
    "dataset: 平均と標準偏差を計算する対象のPytorchのデータセット\n",
    "\"\"\"\n",
    "def get_dataset_statistics(dataset: Dataset):\n",
    "    data = []\n",
    "    for i in range(len(dataset)):\n",
    "        # 3072次元のベクトルを取得\n",
    "        img_flat = dataset[i][0]\n",
    "        data.append(img_flat)\n",
    "    # 第0軸を追加して第0軸でデータを連結\n",
    "    data = np.stack(data)\n",
    "    \n",
    "    # データ全体の平均と標準偏差を計算\n",
    "    channel_mean = np.mean(data, axis=0)\n",
    "    channel_std = np.std(data, axis=0)\n",
    "    \n",
    "    return channel_mean, channel_std\n",
    "\n",
    "# データセットを2つに分割するインデックス集合を生成する関数\n",
    "\"\"\"\n",
    "dataset    : 分割対象のデータセット\n",
    "ration     : 1つ目のセットに含めるデータ量の割合\n",
    "random_seed: 分割結果を不変にするためのシード\n",
    "\"\"\"\n",
    "def generate_subset(\n",
    "    dataset: Dataset, ration: float, random_seed: int=42):\n",
    "    # サブセットの大きさを計算\n",
    "    size = int(len(dataset) * ration)\n",
    "    \n",
    "    indices = list(range(len(dataset)))\n",
    "    \n",
    "    # 2つのセットに分ける前にシャッフル\n",
    "    random.seed(random_seed)\n",
    "    random.shuffle(indices)\n",
    "    \n",
    "    # セット1とセット2のサンプルのインデックスに分割\n",
    "    indices1, indices2 = indices[:size], indices[size:]\n",
    "    \n",
    "    return indices1, indices2\n",
    "\n",
    "# 学習・評価を行う関数\n",
    "def train_eval():\n",
    "    config = Config()\n",
    "    \n",
    "    # 入力データ正規化のため学習データセットを使って\n",
    "    # 各次元の平均と標準偏差を計算\n",
    "    dataset = torchvision.datasets.CIFAR10(\n",
    "        root=\"../chapter3-data/\", train=True, download=True,\n",
    "        transform=transform\n",
    "    )\n",
    "    channel_mean, channel_std = get_dataset_statistics(dataset)\n",
    "    \n",
    "    # 正規化を含めた画像整形関数の用意\n",
    "    img_transform = lambda x: transform(\n",
    "        x, channel_mean, channel_std\n",
    "    )\n",
    "    \n",
    "    # 学習、評価セットの用意\n",
    "    train_dataset = torchvision.datasets.CIFAR10(\n",
    "        root=\"../chapter3-data/\", train=True, download=True,\n",
    "        transform=img_transform\n",
    "    )\n",
    "    test_dataset = torchvision.datasets.CIFAR10(\n",
    "        root=\"../chapter3-data/\", train=False, download=True,\n",
    "        transform=img_transform\n",
    "    )\n",
    "    \n",
    "    # 学習・検証セットへ分割するためのインデックス集合の生成\n",
    "    val_set, train_set = generate_subset(train_dataset, config.var_ratio)\n",
    "    \n",
    "    print(f'学習セットのサンプル数： {len(train_set)}')\n",
    "    print(f'検証セットのサンプル数: {len(val_set)}')\n",
    "    print(f'評価セットのサンプル数: {len(test_dataset)}')\n",
    "    \n",
    "    # インデックス集合から無作為にインデックスをサンプルするサンプラー\n",
    "    train_sampler = SubsetRandomSampler(train_set)\n",
    "    \n",
    "    # DataLoaderを生成\n",
    "    train_loader = DataLoader(\n",
    "        train_dataset, batch_size=config.batch_size,\n",
    "        num_workers=config.num_workers, sampler=train_sampler\n",
    "    )\n",
    "    val_loader = DataLoader(\n",
    "        train_dataset, batch_size=config.batch_size,\n",
    "        num_workers=config.num_workers, sampler=val_set\n",
    "    )\n",
    "    test_loader = DataLoader(\n",
    "        test_dataset, batch_size=config.batch_size,\n",
    "        num_workers=config.num_workers\n",
    "    )\n",
    "    \n",
    "    # 目的関数の生成(交差エントロピー)\n",
    "    loss_func = F.cross_entropy\n",
    "    \n",
    "    # 検証セットの結果による最良モデルの保存用変数\n",
    "    val_loss_best = float('inf')\n",
    "    model_best = None\n",
    "    \n",
    "    # FNNモデルの生成\n",
    "    model = FNN(32 * 32 * 3, config.dim_hidden,\n",
    "                config.num_hidden_layers,\n",
    "                len(train_dataset.classes))\n",
    "    \n",
    "    # モデルを指定デバイスに転送(デフォルトCPU)\n",
    "    model.to(config.device)\n",
    "    \n",
    "    # 最適化器の生成\n",
    "    optimizer = optim.SGD(model.parameters(), lr=config.lr)\n",
    "    \n",
    "    for epoch in range(config.num_epochs):\n",
    "        model.train()\n",
    "        \n",
    "        with tqdm(train_loader) as pbar:\n",
    "            pbar.set_description(f'[エポック: {epoch+1}]')\n",
    "            \n",
    "            # 移動平均計算用\n",
    "            losses = deque()\n",
    "            accs = deque()\n",
    "            for x, y in pbar:\n",
    "                # データをモデルと同じデバイスに転送\n",
    "                x = x.to(model.get_device())\n",
    "                y = y.to(model.get_device())\n",
    "                \n",
    "                # 既に計算された勾配をリセット\n",
    "                optimizer.zero_grad()\n",
    "                \n",
    "                # 順伝播\n",
    "                y_pred = model(x)\n",
    "                \n",
    "                # 学習データに対する損失と正確度を計算\n",
    "                loss = loss_func(y_pred, y)\n",
    "                accuracy = (y_pred.argmax(dim=1) == y).float().mean()\n",
    "                \n",
    "                # 誤差逆伝播\n",
    "                loss.backward()\n",
    "                \n",
    "                # パラメータ更新\n",
    "                optimizer.step()\n",
    "                \n",
    "                # 移動平均を計算して表示\n",
    "                losses.append(loss.item())\n",
    "                accs.append(accuracy.item())\n",
    "                if len(losses) > config.moving_avg:\n",
    "                    losses.popleft()\n",
    "                    accs.popleft()\n",
    "                pbar.set_postfix({\n",
    "                    'loss': torch.Tensor(losses).mean().item(),\n",
    "                    'accuracy': torch.Tensor(accs).mean().item()\n",
    "                })\n",
    "            \n",
    "        # 検証セットを使って精度評価\n",
    "        val_loss, val_accuracy = evaluate(\n",
    "            val_loader, model, loss_func\n",
    "        )\n",
    "        print(f'検証: loss = {val_loss:.3f}, accuracy = {val_accuracy:.3f}')\n",
    "        \n",
    "        # より良い検証結果が得られたモデルを記録\n",
    "        if val_loss < val_loss_best:\n",
    "            val_loss_best = val_loss\n",
    "            model_best = model.copy()\n",
    "            \n",
    "    # test\n",
    "    test_loss, test_accuracy = evaluate(\n",
    "        test_loader, model_best, loss_func\n",
    "    )\n",
    "    print(f'テスト: loss = {test_loss}, accuracy = {test_accuracy}')\n",
    "    \n",
    "    # t_SNEを使って特徴量の分布をプロット\n",
    "    plot_t_sne(test_loader, model_best, config.num_samples)\n",
    "                \n",
    "            \n",
    "                "
   ]
  },
  {
   "cell_type": "code",
   "execution_count": 36,
   "metadata": {},
   "outputs": [
    {
     "name": "stdout",
     "output_type": "stream",
     "text": [
      "Files already downloaded and verified\n",
      "Files already downloaded and verified\n",
      "Files already downloaded and verified\n",
      "学習セットのサンプル数： 40000\n",
      "検証セットのサンプル数: 10000\n",
      "評価セットのサンプル数: 10000\n"
     ]
    },
    {
     "name": "stderr",
     "output_type": "stream",
     "text": [
      "[エポック: 1]: 100%|██████████| 1250/1250 [00:08<00:00, 155.11it/s, loss=1.55, accuracy=0.45] \n"
     ]
    },
    {
     "name": "stdout",
     "output_type": "stream",
     "text": [
      "検証: loss = 1.478, accuracy = 0.477\n"
     ]
    },
    {
     "name": "stderr",
     "output_type": "stream",
     "text": [
      "[エポック: 2]: 100%|██████████| 1250/1250 [00:07<00:00, 157.68it/s, loss=1.45, accuracy=0.489]\n"
     ]
    },
    {
     "name": "stdout",
     "output_type": "stream",
     "text": [
      "検証: loss = 1.390, accuracy = 0.507\n"
     ]
    },
    {
     "name": "stderr",
     "output_type": "stream",
     "text": [
      "[エポック: 3]: 100%|██████████| 1250/1250 [00:07<00:00, 158.54it/s, loss=1.36, accuracy=0.533]\n"
     ]
    },
    {
     "name": "stdout",
     "output_type": "stream",
     "text": [
      "検証: loss = 1.358, accuracy = 0.522\n"
     ]
    },
    {
     "name": "stderr",
     "output_type": "stream",
     "text": [
      "[エポック: 4]: 100%|██████████| 1250/1250 [00:07<00:00, 159.25it/s, loss=1.29, accuracy=0.558]\n"
     ]
    },
    {
     "name": "stdout",
     "output_type": "stream",
     "text": [
      "検証: loss = 1.332, accuracy = 0.535\n"
     ]
    },
    {
     "name": "stderr",
     "output_type": "stream",
     "text": [
      "[エポック: 5]: 100%|██████████| 1250/1250 [00:08<00:00, 155.66it/s, loss=1.17, accuracy=0.591]\n"
     ]
    },
    {
     "name": "stdout",
     "output_type": "stream",
     "text": [
      "検証: loss = 1.318, accuracy = 0.539\n"
     ]
    },
    {
     "name": "stderr",
     "output_type": "stream",
     "text": [
      "[エポック: 6]: 100%|██████████| 1250/1250 [00:07<00:00, 158.86it/s, loss=1.18, accuracy=0.597]\n"
     ]
    },
    {
     "name": "stdout",
     "output_type": "stream",
     "text": [
      "検証: loss = 1.316, accuracy = 0.544\n"
     ]
    },
    {
     "name": "stderr",
     "output_type": "stream",
     "text": [
      "[エポック: 7]: 100%|██████████| 1250/1250 [00:08<00:00, 155.15it/s, loss=1.07, accuracy=0.62]  \n"
     ]
    },
    {
     "name": "stdout",
     "output_type": "stream",
     "text": [
      "検証: loss = 1.307, accuracy = 0.547\n"
     ]
    },
    {
     "name": "stderr",
     "output_type": "stream",
     "text": [
      "[エポック: 8]: 100%|██████████| 1250/1250 [00:07<00:00, 156.88it/s, loss=1.05, accuracy=0.647] \n"
     ]
    },
    {
     "name": "stdout",
     "output_type": "stream",
     "text": [
      "検証: loss = 1.319, accuracy = 0.550\n"
     ]
    },
    {
     "name": "stderr",
     "output_type": "stream",
     "text": [
      "[エポック: 9]: 100%|██████████| 1250/1250 [00:07<00:00, 156.26it/s, loss=0.978, accuracy=0.666]\n"
     ]
    },
    {
     "name": "stdout",
     "output_type": "stream",
     "text": [
      "検証: loss = 1.367, accuracy = 0.536\n"
     ]
    },
    {
     "name": "stderr",
     "output_type": "stream",
     "text": [
      "[エポック: 10]: 100%|██████████| 1250/1250 [00:07<00:00, 158.96it/s, loss=0.955, accuracy=0.669]\n"
     ]
    },
    {
     "name": "stdout",
     "output_type": "stream",
     "text": [
      "検証: loss = 1.364, accuracy = 0.541\n"
     ]
    },
    {
     "name": "stderr",
     "output_type": "stream",
     "text": [
      "[エポック: 11]: 100%|██████████| 1250/1250 [00:07<00:00, 157.24it/s, loss=0.852, accuracy=0.703]\n"
     ]
    },
    {
     "name": "stdout",
     "output_type": "stream",
     "text": [
      "検証: loss = 1.362, accuracy = 0.548\n"
     ]
    },
    {
     "name": "stderr",
     "output_type": "stream",
     "text": [
      "[エポック: 12]: 100%|██████████| 1250/1250 [00:07<00:00, 156.39it/s, loss=0.885, accuracy=0.695]\n"
     ]
    },
    {
     "name": "stdout",
     "output_type": "stream",
     "text": [
      "検証: loss = 1.372, accuracy = 0.548\n"
     ]
    },
    {
     "name": "stderr",
     "output_type": "stream",
     "text": [
      "[エポック: 13]: 100%|██████████| 1250/1250 [00:07<00:00, 158.81it/s, loss=0.81, accuracy=0.697] \n"
     ]
    },
    {
     "name": "stdout",
     "output_type": "stream",
     "text": [
      "検証: loss = 1.385, accuracy = 0.542\n"
     ]
    },
    {
     "name": "stderr",
     "output_type": "stream",
     "text": [
      "[エポック: 14]: 100%|██████████| 1250/1250 [00:08<00:00, 155.98it/s, loss=0.757, accuracy=0.725]\n"
     ]
    },
    {
     "name": "stdout",
     "output_type": "stream",
     "text": [
      "検証: loss = 1.393, accuracy = 0.555\n"
     ]
    },
    {
     "name": "stderr",
     "output_type": "stream",
     "text": [
      "[エポック: 15]: 100%|██████████| 1250/1250 [00:08<00:00, 154.18it/s, loss=0.681, accuracy=0.781]\n"
     ]
    },
    {
     "name": "stdout",
     "output_type": "stream",
     "text": [
      "検証: loss = 1.431, accuracy = 0.540\n"
     ]
    },
    {
     "name": "stderr",
     "output_type": "stream",
     "text": [
      "[エポック: 16]: 100%|██████████| 1250/1250 [00:07<00:00, 157.43it/s, loss=0.687, accuracy=0.761]\n"
     ]
    },
    {
     "name": "stdout",
     "output_type": "stream",
     "text": [
      "検証: loss = 1.475, accuracy = 0.541\n"
     ]
    },
    {
     "name": "stderr",
     "output_type": "stream",
     "text": [
      "[エポック: 17]: 100%|██████████| 1250/1250 [00:08<00:00, 155.31it/s, loss=0.666, accuracy=0.781]\n"
     ]
    },
    {
     "name": "stdout",
     "output_type": "stream",
     "text": [
      "検証: loss = 1.476, accuracy = 0.542\n"
     ]
    },
    {
     "name": "stderr",
     "output_type": "stream",
     "text": [
      "[エポック: 18]: 100%|██████████| 1250/1250 [00:07<00:00, 157.03it/s, loss=0.582, accuracy=0.786]\n"
     ]
    },
    {
     "name": "stdout",
     "output_type": "stream",
     "text": [
      "検証: loss = 1.486, accuracy = 0.540\n"
     ]
    },
    {
     "name": "stderr",
     "output_type": "stream",
     "text": [
      "[エポック: 19]: 100%|██████████| 1250/1250 [00:08<00:00, 153.82it/s, loss=0.571, accuracy=0.791]\n"
     ]
    },
    {
     "name": "stdout",
     "output_type": "stream",
     "text": [
      "検証: loss = 1.538, accuracy = 0.539\n"
     ]
    },
    {
     "name": "stderr",
     "output_type": "stream",
     "text": [
      "[エポック: 20]: 100%|██████████| 1250/1250 [00:07<00:00, 158.27it/s, loss=0.564, accuracy=0.797]\n"
     ]
    },
    {
     "name": "stdout",
     "output_type": "stream",
     "text": [
      "検証: loss = 1.528, accuracy = 0.540\n"
     ]
    },
    {
     "name": "stderr",
     "output_type": "stream",
     "text": [
      "[エポック: 21]: 100%|██████████| 1250/1250 [00:07<00:00, 166.95it/s, loss=0.503, accuracy=0.827]\n"
     ]
    },
    {
     "name": "stdout",
     "output_type": "stream",
     "text": [
      "検証: loss = 1.535, accuracy = 0.546\n"
     ]
    },
    {
     "name": "stderr",
     "output_type": "stream",
     "text": [
      "[エポック: 22]: 100%|██████████| 1250/1250 [00:07<00:00, 161.06it/s, loss=0.447, accuracy=0.872]\n"
     ]
    },
    {
     "name": "stdout",
     "output_type": "stream",
     "text": [
      "検証: loss = 1.552, accuracy = 0.551\n"
     ]
    },
    {
     "name": "stderr",
     "output_type": "stream",
     "text": [
      "[エポック: 23]: 100%|██████████| 1250/1250 [00:07<00:00, 157.30it/s, loss=0.506, accuracy=0.828]\n"
     ]
    },
    {
     "name": "stdout",
     "output_type": "stream",
     "text": [
      "検証: loss = 1.598, accuracy = 0.543\n"
     ]
    },
    {
     "name": "stderr",
     "output_type": "stream",
     "text": [
      "[エポック: 24]: 100%|██████████| 1250/1250 [00:08<00:00, 154.12it/s, loss=0.36, accuracy=0.883] \n"
     ]
    },
    {
     "name": "stdout",
     "output_type": "stream",
     "text": [
      "検証: loss = 1.612, accuracy = 0.553\n"
     ]
    },
    {
     "name": "stderr",
     "output_type": "stream",
     "text": [
      "[エポック: 25]: 100%|██████████| 1250/1250 [00:07<00:00, 157.39it/s, loss=0.431, accuracy=0.839]\n"
     ]
    },
    {
     "name": "stdout",
     "output_type": "stream",
     "text": [
      "検証: loss = 1.663, accuracy = 0.542\n"
     ]
    },
    {
     "name": "stderr",
     "output_type": "stream",
     "text": [
      "[エポック: 26]: 100%|██████████| 1250/1250 [00:07<00:00, 156.40it/s, loss=0.44, accuracy=0.841] \n"
     ]
    },
    {
     "name": "stdout",
     "output_type": "stream",
     "text": [
      "検証: loss = 1.727, accuracy = 0.527\n"
     ]
    },
    {
     "name": "stderr",
     "output_type": "stream",
     "text": [
      "[エポック: 27]: 100%|██████████| 1250/1250 [00:08<00:00, 154.42it/s, loss=0.444, accuracy=0.853]\n"
     ]
    },
    {
     "name": "stdout",
     "output_type": "stream",
     "text": [
      "検証: loss = 1.679, accuracy = 0.550\n"
     ]
    },
    {
     "name": "stderr",
     "output_type": "stream",
     "text": [
      "[エポック: 28]: 100%|██████████| 1250/1250 [00:07<00:00, 158.69it/s, loss=0.415, accuracy=0.85] \n"
     ]
    },
    {
     "name": "stdout",
     "output_type": "stream",
     "text": [
      "検証: loss = 1.742, accuracy = 0.539\n"
     ]
    },
    {
     "name": "stderr",
     "output_type": "stream",
     "text": [
      "[エポック: 29]: 100%|██████████| 1250/1250 [00:07<00:00, 157.24it/s, loss=0.329, accuracy=0.898]\n"
     ]
    },
    {
     "name": "stdout",
     "output_type": "stream",
     "text": [
      "検証: loss = 1.708, accuracy = 0.547\n"
     ]
    },
    {
     "name": "stderr",
     "output_type": "stream",
     "text": [
      "[エポック: 30]: 100%|██████████| 1250/1250 [00:07<00:00, 157.21it/s, loss=0.345, accuracy=0.897]\n"
     ]
    },
    {
     "name": "stdout",
     "output_type": "stream",
     "text": [
      "検証: loss = 1.724, accuracy = 0.549\n",
      "テスト: loss = 1.3120958805084229, accuracy = 0.535099983215332\n"
     ]
    },
    {
     "name": "stderr",
     "output_type": "stream",
     "text": [
      "/opt/conda/lib/python3.8/site-packages/sklearn/manifold/_t_sne.py:800: FutureWarning: The default initialization in TSNE will change from 'random' to 'pca' in 1.2.\n",
      "  warnings.warn(\n",
      "/opt/conda/lib/python3.8/site-packages/sklearn/manifold/_t_sne.py:810: FutureWarning: The default learning rate in TSNE will change from 200.0 to 'auto' in 1.2.\n",
      "  warnings.warn(\n"
     ]
    },
    {
     "data": {
      "image/png": "[encoded data removed]",
      "text/plain": [
       "<Figure size 1440x1080 with 1 Axes>"
      ]
     },
     "metadata": {
      "needs_background": "light"
     },
     "output_type": "display_data"
    }
   ],
   "source": [
    "# 学習・評価の実行\n",
    "train_eval()"
   ]
  },
  {
   "cell_type": "code",
   "execution_count": null,
   "metadata": {},
   "outputs": [],
   "source": []
  }
 ],
 "metadata": {
  "kernelspec": {
   "display_name": "base",
   "language": "python",
   "name": "python3"
  },
  "language_info": {
   "codemirror_mode": {
    "name": "ipython",
    "version": 3
   },
   "file_extension": ".py",
   "mimetype": "text/x-python",
   "name": "python",
   "nbconvert_exporter": "python",
   "pygments_lexer": "ipython3",
   "version": "3.8.13"
  },
  "orig_nbformat": 4
 },
 "nbformat": 4,
 "nbformat_minor": 2
}
