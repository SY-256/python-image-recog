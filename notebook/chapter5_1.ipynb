{
 "cells": [
  {
   "attachments": {},
   "cell_type": "markdown",
   "metadata": {},
   "source": [
    "### 第5章物体検出（その1）\n",
    "#### 物体検出の基礎"
   ]
  },
  {
   "cell_type": "code",
   "execution_count": 1,
   "metadata": {},
   "outputs": [],
   "source": [
    "import torch"
   ]
  },
  {
   "cell_type": "code",
   "execution_count": 2,
   "metadata": {},
   "outputs": [],
   "source": [
    "# 外接矩形を表現方法を変換する関数\n",
    "\"\"\"\n",
    "矩形をxmin, ymin, xmax, ymaxからx, y, width, heightに変換する関数\n",
    "boxes: 矩形集合, [矩形数(任意の軸数), 4(xmin, ymin, xmax, ymax)]\n",
    "\"\"\"\n",
    "def convert_to_xywh(boxes: torch.Tensor):\n",
    "    wh = boxes[..., 2:] - boxes[..., :2]\n",
    "    xy = boxes[..., 2] + wh / 2\n",
    "    boxes = torch.cat((xy, wh), dim=-1)\n",
    "    \n",
    "    return boxes\n",
    "\n",
    "\"\"\"\n",
    "矩形をx, y, width, heightからxmin, ymin, xmax, ymaxに変換\n",
    "boxes: 外接集合, [矩形数(任意の軸数), 4(x, y, width, height)]\n",
    "\"\"\"\n",
    "def convert_to_xyxy(boxes: torch.Tensor):\n",
    "    xymin = boxes[..., :2] - boxes[..., 2:] / 2\n",
    "    xymax = boxes[..., 2:] + xymin\n",
    "    boxes = torch.cat((xymin, xymax), dim=-1)\n",
    "    \n",
    "    return boxes"
   ]
  },
  {
   "cell_type": "code",
   "execution_count": null,
   "metadata": {},
   "outputs": [],
   "source": [
    "# IoUを計算する関数\n",
    "\"\"\"\n",
    "boxes1: 矩形集合, [矩形数, 4(xmin, ymin, xmax, ymax)]\n",
    "boxes2: 矩形集合, [矩形数, 4(xmin, ymin, xmax, ymax)]\n",
    "\"\"\"\n",
    "def calc_iou(boxes1: torch.Tensor, boxes2: torch.Tensor):\n",
    "    # 第1軸をunsqueezeし、ブロードキャストを利用することで\n",
    "    # [矩形数, 1, 2]と[矩形数, 2]の演算結果が\n",
    "    # [boxes1の矩形数, boxes2の矩形数, 2]となる\n",
    "    \n",
    "    # 積集合の左上を座標を取得\n",
    "    intersect_left_top = torch.maximum(\n",
    "        boxes1[:, :2].unsqueeze(1), boxes2[:, :2]\n",
    "    )\n",
    "    # 積集合の右下の座標を取得\n",
    "    intersect_right_bottom = torch.minimum(\n",
    "        boxes1[:, 2:].unsqueeze(1), boxes2[:, 2:]\n",
    "    )\n",
    "    \n",
    "    # 積集合の幅と高さを算出し、面積を計算(重なっている部分)\n",
    "    intersect_width_height = (\n",
    "        intersect_right_bottom - intersect_left_top).clamp(min=0)\n",
    "    intersect_areas = intersect_width_height.prod(dim=2)\n",
    "    \n",
    "    # それぞれの矩形の面積計算\n",
    "    areas1 = (boxes1[:, 2] - boxes1[:, 0]) * \\\n",
    "        (boxes1[:, 3] - boxes1[:, 1])\n",
    "    areas2 = (boxes2[:, 2] - boxes2[:, 0]) * \\\n",
    "        (boxes2[:, 3] - boxes2[:, 1])\n",
    "        \n",
    "    # 和集合の面積を計算\n",
    "    union_areas = areas1.unsqueeze(1) + areas2 - intersect_areas\n",
    "    \n",
    "    ious = intersect_areas / union_areas\n",
    "    \n",
    "    return ious, union_areas\n",
    "    "
   ]
  }
 ],
 "metadata": {
  "kernelspec": {
   "display_name": "base",
   "language": "python",
   "name": "python3"
  },
  "language_info": {
   "codemirror_mode": {
    "name": "ipython",
    "version": 3
   },
   "file_extension": ".py",
   "mimetype": "text/x-python",
   "name": "python",
   "nbconvert_exporter": "python",
   "pygments_lexer": "ipython3",
   "version": "3.8.13"
  },
  "orig_nbformat": 4
 },
 "nbformat": 4,
 "nbformat_minor": 2
}
