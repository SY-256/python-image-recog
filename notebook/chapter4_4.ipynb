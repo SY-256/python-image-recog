{
 "cells": [
  {
   "attachments": {},
   "cell_type": "markdown",
   "metadata": {},
   "source": [
    "### 第4章画像分類（その4）\n",
    "#### 精度向上のテクニック"
   ]
  },
  {
   "cell_type": "code",
   "execution_count": 1,
   "metadata": {},
   "outputs": [
    {
     "name": "stderr",
     "output_type": "stream",
     "text": [
      "/opt/conda/lib/python3.8/site-packages/tqdm/auto.py:22: TqdmWarning: IProgress not found. Please update jupyter and ipywidgets. See https://ipywidgets.readthedocs.io/en/stable/user_install.html\n",
      "  from .autonotebook import tqdm as notebook_tqdm\n"
     ]
    }
   ],
   "source": [
    "from collections import deque\n",
    "import copy\n",
    "from tqdm import tqdm\n",
    "from PIL import Image\n",
    "from pathlib import Path\n",
    "\n",
    "import torch\n",
    "from torch import nn, optim\n",
    "import torch.nn.functional as F\n",
    "from torch.utils.data import DataLoader\n",
    "from torch.utils.data.sampler import SubsetRandomSampler\n",
    "import torchvision\n",
    "import torchvision.transforms as T\n",
    "\n",
    "from src import utils, model"
   ]
  },
  {
   "cell_type": "code",
   "execution_count": 2,
   "metadata": {},
   "outputs": [],
   "source": [
    "# パラメータ初期化の追加\n",
    "\"\"\"\n",
    "パラメータ初期化関数\n",
    "\"\"\"\n",
    "def _reset_parameters(self):\n",
    "    for m in self.modules():\n",
    "        if isinstance(m, nn.Conv2d):\n",
    "            # Heらが提案した正規分布を使って初期化\n",
    "            nn.init.kaiming_normal_(m.weight, mode=\"fan_in\",\n",
    "                                    nonlinearity=\"relu\")"
   ]
  },
  {
   "cell_type": "code",
   "execution_count": 3,
   "metadata": {},
   "outputs": [],
   "source": [
    "# ResNet18の実装\n",
    "class ResNet18(nn.Module):\n",
    "    \"\"\"\n",
    "    ResNet18モデル\n",
    "    num_classes : 分類対象の物体モデル数\n",
    "    \"\"\"\n",
    "    def __init__(self, num_classes: int):\n",
    "        super().__init__()\n",
    "        \n",
    "        self.conv1 = nn.Conv2d(3, 64, kernel_size=7, stride=2,\n",
    "                               padding=3, bias=False)\n",
    "        self.bn1 = nn.BatchNorm2d(64)\n",
    "        self.relu = nn.ReLU(inplace=True)\n",
    "        \n",
    "        self.max_pool = nn.MaxPool2d(kernel_size=3, stride=2, padding=1)\n",
    "        \n",
    "        self.layer1 = nn.Sequential(\n",
    "            model.BasicBlock(64, 64),\n",
    "            model.BasicBlock(64, 64),\n",
    "        )\n",
    "        self.layer2 = nn.Sequential(\n",
    "            model.BasicBlock(64, 128, stride=2),\n",
    "            model.BasicBlock(128, 128),\n",
    "        )\n",
    "        self.layer3 = nn.Sequential(\n",
    "            model.BasicBlock(128, 256, stride=2),\n",
    "            model.BasicBlock(256, 256),\n",
    "        )\n",
    "        self.layer4 = nn.Sequential(\n",
    "            model.BasicBlock(256, 512, stride=2),\n",
    "            model.BasicBlock(512, 512),\n",
    "        )\n",
    "        \n",
    "        self.avg_pool = nn.AdaptiveAvgPool2d(1)\n",
    "        \n",
    "        # ドロップアウトの追加\n",
    "        self.dropout = nn.Dropout()\n",
    "        \n",
    "        self.linear = nn.Linear(512, num_classes)\n",
    "        \n",
    "        self._reset_parameters()\n",
    "    \n",
    "    \"\"\"\n",
    "    パラメータの初期化関数\n",
    "    \"\"\"\n",
    "    def _reset_parameters(self):\n",
    "        for m in self.modules:\n",
    "            if isinstance(m, nn.Conv2d):\n",
    "                # Heらが考案した正規分布を使って初期化\n",
    "                nn.init.kaiming_normal_(m.weight, mode='fan_in',\n",
    "                                        nonlinearity='relu')\n",
    "    \n",
    "    \"\"\"\n",
    "    順伝播関数\n",
    "    x            : 入力, [バッチサイズ, 入力チャネル数, 高さ, 幅]\n",
    "    return_embed : 特徴量を返すかロジットを返すかを選択する真偽値\n",
    "    \"\"\"\n",
    "    def forward(self, x: torch.Tensor, return_embed: bool=False):\n",
    "        x = self.conv1(x)\n",
    "        x = self.bn1(x)\n",
    "        x = self.relu(x)\n",
    "        x = self.max_pool(x)\n",
    "        \n",
    "        x = self.layer1(x)\n",
    "        x = self.layer2(x)\n",
    "        x = self.layer3(x)\n",
    "        x = self.layer4(x)\n",
    "        \n",
    "        x = self.avg_pool(x)\n",
    "        x = x.flatten(1)\n",
    "        \n",
    "        if return_embed:\n",
    "            return x\n",
    "        \n",
    "        x = self.dropout(x)\n",
    "        \n",
    "        x = self.linear(x)\n",
    "        \n",
    "        return x"
   ]
  },
  {
   "cell_type": "code",
   "execution_count": 1,
   "metadata": {},
   "outputs": [],
   "source": [
    "# 学習におけるハイパーパラメータの設定\n",
    "class Config:\n",
    "    '''\n",
    "    ハイパーパラメータとオプションの設定\n",
    "    '''\n",
    "    def __init__(self):\n",
    "        self.val_ratio = 0.2       # 検証に使う学習セット内のデータの割合\n",
    "        self.patch_size = 4        # パッチサイズ\n",
    "        self.dim_hidden = 512      # 隠れ層の次元\n",
    "        self.num_heads = 8         # マルチヘッドアテンションのヘッド数\n",
    "        self.dim_feedforward = 512 # Transformerエンコーダ層内のFNNにおける隠れ層の特徴量次元\n",
    "        self.num_layers = 6        # Transformerエンコーダの層数\n",
    "        self.num_epochs = 30       # 学習エポック数\n",
    "        self.lr = 1e-2             # 学習率\n",
    "        self.moving_avg = 20       # 移動平均で計算する損失と正確度の値の数\n",
    "        self.batch_size = 32       # バッチサイズ\n",
    "        self.num_workers = 2       # データローダに使うCPUプロセスの数\n",
    "        self.device = 'cuda'       # 学習に使うデバイス\n",
    "        self.num_samples = 200     # t-SNEでプロットするサンプル数"
   ]
  },
  {
   "cell_type": "code",
   "execution_count": null,
   "metadata": {},
   "outputs": [],
   "source": []
  }
 ],
 "metadata": {
  "kernelspec": {
   "display_name": "base",
   "language": "python",
   "name": "python3"
  },
  "language_info": {
   "codemirror_mode": {
    "name": "ipython",
    "version": 3
   },
   "file_extension": ".py",
   "mimetype": "text/x-python",
   "name": "python",
   "nbconvert_exporter": "python",
   "pygments_lexer": "ipython3",
   "version": "3.8.13"
  },
  "orig_nbformat": 4
 },
 "nbformat": 4,
 "nbformat_minor": 2
}
