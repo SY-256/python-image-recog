{
 "cells": [
  {
   "attachments": {},
   "cell_type": "markdown",
   "metadata": {},
   "source": [
    "### 第4章画像分類（その3）\n",
    "#### Transformerによる手法-Vison Transfomerの実装"
   ]
  },
  {
   "cell_type": "code",
   "execution_count": 1,
   "metadata": {},
   "outputs": [
    {
     "name": "stderr",
     "output_type": "stream",
     "text": [
      "/opt/conda/lib/python3.8/site-packages/tqdm/auto.py:22: TqdmWarning: IProgress not found. Please update jupyter and ipywidgets. See https://ipywidgets.readthedocs.io/en/stable/user_install.html\n",
      "  from .autonotebook import tqdm as notebook_tqdm\n"
     ]
    }
   ],
   "source": [
    "from collections import deque\n",
    "import copy\n",
    "from tqdm import tqdm\n",
    "\n",
    "import torch\n",
    "from torch import nn, optim\n",
    "import torch.nn.functional as F\n",
    "from torch.utils.data import DataLoader\n",
    "from torch.utils.data.sampler import SubsetRandomSampler\n",
    "import torchvision\n",
    "import torchvision.transforms as T\n",
    "\n",
    "from src import utils"
   ]
  },
  {
   "cell_type": "code",
   "execution_count": 2,
   "metadata": {},
   "outputs": [],
   "source": [
    " # マルチヘッドアテンションを使った自己アテンションの実装\n",
    "class SelfAttention(nn.Module):\n",
    "    \"\"\"\n",
    "    自己アテンション\n",
    "    dim_hidden : 入力特徴量の次元\n",
    "    num_heads  : マルチヘッドアテンションのヘッド数\n",
    "    qkv_bias   : クエリなどを生成する全結合層のバイアスの有無  \n",
    "    \"\"\"\n",
    "    def __init__(self, dim_hidden: int, num_heads: int,\n",
    "                qkv_bias: bool=False):\n",
    "        super().__init__()\n",
    "        \n",
    "        # 特徴量を各ヘッドのために分割するので、\n",
    "        # 特徴量次元をヘッド数で割り切れるか検証\n",
    "        assert dim_hidden % num_heads == 0\n",
    "        \n",
    "        self.num_heads = num_heads\n",
    "        \n",
    "        # ヘッドごとの特徴量次元\n",
    "        dim_head = dim_hidden // num_heads\n",
    "        \n",
    "        # ソフトマックスのスケール値\n",
    "        self.scale = dim_head ** -0.5\n",
    "        \n",
    "        # ヘッドごとにクエリ、キーおよびバリューを生成するための全結合層\n",
    "        self.proj_in = nn.Linear(\n",
    "            dim_hidden, dim_hidden * 3, bias=qkv_bias\n",
    "        )\n",
    "        \n",
    "        # 各ヘッドから得られた特徴量を1つにまとめる全結合層\n",
    "        self.proj_out = nn.Linear(dim_hidden, dim_hidden)\n",
    "        \n",
    "    \"\"\"\n",
    "    順伝播関数\n",
    "    x: 入力特徴量, [バッチサイズ, 特徴量数, 特徴量次元]\n",
    "    \"\"\"\n",
    "    def forward(self, x: torch.Tensor):\n",
    "        # bs: バッチサイズ, ns: 特徴量数\n",
    "        bs, ns = x.shape[:2]\n",
    "        \n",
    "        qkv = self.proj_in(x)\n",
    "        \n",
    "        # view関数により\n",
    "        # [バッチサイズ, 特徴量数, QKV, ヘッド数, ヘッドの特徴量次元]\n",
    "        # permute関数により\n",
    "        # [QKV, バッチサイズ, ヘッド数, 特徴量数, ヘッドの特徴量次元]\n",
    "        qkv = qkv.view(\n",
    "            bs, ns, 3, self.num_heads, -1\n",
    "        ).permute(2, 0, 3, 1, 4)\n",
    "        \n",
    "        # クエリ, キーおよびバリューに分解\n",
    "        q, k, v = qkv.unbind(0)\n",
    "        \n",
    "        # クエリとキーの行列積とアテンションの計算(今回はマスク化不使用)\n",
    "        # attnは[バッチサイズ, ヘッド数, 特徴量数, 特徴量数]\n",
    "        attn = q.matmul(k.transpose(-2, -1))\n",
    "        attn = (attn * self.scale).softmax(dim=-1)\n",
    "        \n",
    "        # アテンションとバリューの行列積によりバリューを収集\n",
    "        # xは[バッチサイズ, ヘッド数, 特徴量数, ヘッドの特徴量次元]\n",
    "        x = attn.matmul(v)\n",
    "        \n",
    "        # permute関数により\n",
    "        # [バッチサイズ, 特徴量数, ヘッド数, ヘッドの特徴量次元]\n",
    "        # flatten関数によりすべてのヘッドから得られる特徴量を連結して、\n",
    "        # [バッチサイズ, 特徴量数, ヘッド数 * ヘッドの特徴量次元]\n",
    "        x = x.permute(0, 2, 1, 3).flatten(2)\n",
    "        x = self.proj_out(x)\n",
    "        \n",
    "        return x\n",
    "    "
   ]
  },
  {
   "cell_type": "code",
   "execution_count": 3,
   "metadata": {},
   "outputs": [],
   "source": [
    "# Transfomerエンコーダ層におけるFNNの実装\n",
    "class FNN(nn.Module):\n",
    "    \"\"\"\n",
    "    Transformerエンコーダ層で使うFNNクラス\n",
    "    dim_hidden      : 入力特徴量の次元\n",
    "    dim_feedforward : 中間特徴量の次元\n",
    "    \"\"\"\n",
    "    def __init__(self, dim_hidden: int, dim_feedforward: int):\n",
    "        super().__init__()\n",
    "        \n",
    "        self.linear1 = nn.Linear(dim_hidden, dim_feedforward)\n",
    "        self.linear2 = nn.Linear(dim_feedforward, dim_hidden)\n",
    "        self.activation = nn.GELU()\n",
    "        \n",
    "    \"\"\"\n",
    "    順伝播関数\n",
    "    x: 入力特徴量, [バッチサイズ, 特徴量数, 特徴量次元]\n",
    "    \"\"\"\n",
    "    def forward(self, x: torch.Tensor):\n",
    "        x = self.linear1(x)\n",
    "        x = self.linear2(x)\n",
    "        x = self.activation(x)\n",
    "        \n",
    "        return x"
   ]
  },
  {
   "cell_type": "code",
   "execution_count": 4,
   "metadata": {},
   "outputs": [],
   "source": [
    "# Transfomerエンコーダ層の実装\n",
    "class TransfomerEncoderLayer(nn.Module):\n",
    "    \"\"\"\n",
    "    Transformerエンコーダ層\n",
    "    dim_hidden      : 入力特徴量の次元\n",
    "    num_heads       : ヘッド数\n",
    "    dim_feedforward : 中間特徴量の次元\n",
    "    \"\"\"\n",
    "    def __init__(self, dim_hidden: int, num_heads: int, dim_feedforward: int):\n",
    "        super().__init__()\n",
    "        \n",
    "        self.attention = SelfAttention(dim_hidden, num_heads)\n",
    "        self.fnn = FNN(dim_hidden, dim_feedforward)\n",
    "        \n",
    "        # レイヤー正規化\n",
    "        self.norm1 = nn.LayerNorm(dim_hidden)\n",
    "        self.norm2 = nn.LayerNorm(dim_hidden)\n",
    "        \n",
    "    \"\"\"\n",
    "    順伝播関数\n",
    "    x: 入力特徴量, [バッチサイズ, 特徴量数, 特徴量次元] \n",
    "    \"\"\"\n",
    "    def forward(self, x: torch.Tensor):\n",
    "        # Transformerエンコーダの構造\n",
    "        x = self.norm1(x) # レイヤー正規化\n",
    "        x = self.attention(x) + x # バルチヘッドアテンション\n",
    "        x = self.norm2(x) # レイヤー正規化\n",
    "        x = self.fnn(x) + x # FNN\n",
    "        \n",
    "        return x"
   ]
  },
  {
   "cell_type": "code",
   "execution_count": 11,
   "metadata": {},
   "outputs": [],
   "source": [
    "# Vision Transformerの実装\n",
    "class VisionTransformer(nn.Module):\n",
    "    \"\"\"\n",
    "    Vision Transformer\n",
    "    num_classes     : 分類対象の物体クラス数\n",
    "    img_size        : 入力画像の大きさ(幅と高さが等しいことを想定)\n",
    "    patch_size      : パッチの大きさ(幅と高さが等しいことを想定)\n",
    "    dim_hidden      : 入力特徴量の次元\n",
    "    num_heads       : マルチヘッドアテンションのヘッド数\n",
    "    dim_feedforward : FNNにおける中間特徴量の次元\n",
    "    num_layers      : Transformerエンコーダの層数\n",
    "    \"\"\"\n",
    "    def __init__(self, num_classes: int, img_size: int,\n",
    "                 patch_size: int, dim_hidden: int,\n",
    "                 num_heads: int, dim_feedforward: int,\n",
    "                 num_layers: int):\n",
    "        super().__init__()\n",
    "\n",
    "        # 画像をパッチに分解するために\n",
    "        # 画像の大きさがパッチの大きさで割り切れるか確認\n",
    "        assert img_size % patch_size == 0\n",
    "        \n",
    "        self.img_size = img_size\n",
    "        self.patch_size = patch_size\n",
    "        \n",
    "        # パッチの行数と列数はともにimg_size // patch_sizeであり\n",
    "        # パッチ数はその2乗となる\n",
    "        num_patchs = (img_size // patch_size) ** 2\n",
    "        \n",
    "        # パッチ特徴量はパッチを平坦化することによって生成されるため\n",
    "        # その次元はpatch_size * patch_size * 3(RGBチャネル)\n",
    "        dim_patch = 3 * patch_size ** 2\n",
    "        \n",
    "        # パッチ特徴量をTransformerエンコーダに入力する前に\n",
    "        # パッチ特徴量の次元を変換する全結合層\n",
    "        self.patch_embed = nn.Linear(dim_patch, dim_hidden)\n",
    "        \n",
    "        # 位置埋め込み(パッチ数 + クラス埋め込みの分を用意)\n",
    "        self.pos_embed = nn.Parameter(\n",
    "            torch.zeros(1, num_patchs + 1, dim_hidden)\n",
    "        )\n",
    "        \n",
    "        # クラス埋め込み\n",
    "        self.class_token = nn.Parameter(\n",
    "            torch.zeros((1, 1, dim_hidden))\n",
    "        )\n",
    "        \n",
    "        # Transformerエンコーダ\n",
    "        self.layers = nn.ModuleList([TransfomerEncoderLayer(\n",
    "            dim_hidden, num_heads, dim_feedforward\n",
    "        ) for _ in range(num_layers)])\n",
    "        \n",
    "        # ロジットを生成する前にレイヤー正規化と全結合\n",
    "        self.norm = nn.LayerNorm(dim_hidden)\n",
    "        self.linear = nn.Linear(dim_hidden, num_classes)\n",
    "        \n",
    "    \"\"\"\n",
    "    順伝播関数\n",
    "    x            : 入力, [バッチサイズ, 入力チャネル数, 高さ, 幅]\n",
    "    return_embed : 特徴量を返すかロジットを返すかを選択する真偽値 \n",
    "    \"\"\"\n",
    "    def forward(self, x: torch.Tensor, return_embed: bool=False):\n",
    "        bs, c, h, w = x.shape\n",
    "        \n",
    "        # 入力画像の大きさがクラス生成時に指定したimg_sizeと\n",
    "        # 合致しているか確認\n",
    "        assert h == self.img_size and w == self.img_size\n",
    "        \n",
    "        # 高さ軸と幅軸をそれぞれパッチ数 * パッチの大きさに分解し、\n",
    "        # [バッチサイズ, チャネル数, パッチの行数, パッチの大きさ, パッチの列数, パッチの大きさ]\n",
    "        # の形にする\n",
    "        x = x.view(bs, c, h // self.patch_size, self.patch_size, w // self.patch_size, self.patch_size)\n",
    "        \n",
    "        # permute関数により\n",
    "        # [バッチサイズ, パッチ行数, パッチ列数, チャネル, パッチの大きさ, パッチの大きさ]\n",
    "        # の形にする\n",
    "        x = x.permute(0, 2, 4, 1, 3, 5)\n",
    "        \n",
    "        # パッチを平坦化\n",
    "        # permute関数適用後にはメモリ上のデータ配置の整合性の関係で\n",
    "        # view関数は使えない\n",
    "        x = x.reshape(\n",
    "            bs, (h // self.patch_size) * (w // self.patch_size), -1\n",
    "        )\n",
    "        \n",
    "        x = self.patch_embed(x)\n",
    "        \n",
    "        # クラス埋め込みをバッチサイズ分用意\n",
    "        class_token = self.class_token.expand(bs, -1, -1)\n",
    "        \n",
    "        x = torch.cat((class_token, x), dim=1)\n",
    "        \n",
    "        x += self.pos_embed\n",
    "        \n",
    "        # Transformerエンコーダ層を適用\n",
    "        for layer in self.layers:\n",
    "            x = layer(x)\n",
    "            \n",
    "        # クラス埋め込みをベースとした特徴量の抽出\n",
    "        x = x[:, 0]\n",
    "        \n",
    "        x = self.norm(x)\n",
    "        \n",
    "        if return_embed:\n",
    "            return x\n",
    "        \n",
    "        x = self.linear(x)\n",
    "        \n",
    "        return x\n",
    "    \n",
    "    \"\"\"\n",
    "    モデルパラメータは保存されているデバイスを返す関数\n",
    "    \"\"\"\n",
    "    def get_device(self):\n",
    "        return self.linear.weight.device\n",
    "    \n",
    "    \"\"\"\n",
    "    モデルを複製して返す関数\n",
    "    \"\"\"\n",
    "    def copy(self):\n",
    "        return copy.deepcopy(self)"
   ]
  },
  {
   "cell_type": "code",
   "execution_count": 12,
   "metadata": {},
   "outputs": [],
   "source": [
    "# 学習におけるハイパーパラメータの設定\n",
    "class Config:\n",
    "    '''\n",
    "    ハイパーパラメータとオプションの設定\n",
    "    '''\n",
    "    def __init__(self):\n",
    "        self.val_ratio = 0.2       # 検証に使う学習セット内のデータの割合\n",
    "        self.patch_size = 4        # パッチサイズ\n",
    "        self.dim_hidden = 512      # 隠れ層の次元\n",
    "        self.num_heads = 8         # マルチヘッドアテンションのヘッド数\n",
    "        self.dim_feedforward = 512 # Transformerエンコーダ層内のFNNにおける隠れ層の特徴量次元\n",
    "        self.num_layers = 6        # Transformerエンコーダの層数\n",
    "        self.num_epochs = 30       # 学習エポック数\n",
    "        self.lr = 1e-2             # 学習率\n",
    "        self.moving_avg = 20       # 移動平均で計算する損失と正確度の値の数\n",
    "        self.batch_size = 32       # バッチサイズ\n",
    "        self.num_workers = 2       # データローダに使うCPUプロセスの数\n",
    "        self.device = 'cuda'       # 学習に使うデバイス\n",
    "        self.num_samples = 200     # t-SNEでプロットするサンプル数"
   ]
  },
  {
   "cell_type": "code",
   "execution_count": 15,
   "metadata": {},
   "outputs": [],
   "source": [
    "# 学習・評価を行う関数\n",
    "def train_eval():\n",
    "    config = Config()\n",
    "\n",
    "    # 入力データ正規化のために学習セットのデータを使って\n",
    "    # 各チャネルの平均と標準偏差を計算\n",
    "    dataset = torchvision.datasets.CIFAR10(\n",
    "        root='data', train=True, download=True,\n",
    "        transform=T.ToTensor())\n",
    "    channel_mean, channel_std = utils.get_dataset_statistics(dataset)\n",
    "\n",
    "    # 画像の整形を行うクラスのインスタンスを用意\n",
    "    transforms = T.Compose((\n",
    "        T.ToTensor(),\n",
    "        T.Normalize(mean=channel_mean, std=channel_std),\n",
    "    ))\n",
    "\n",
    "    # 学習、評価セットの用意\n",
    "    train_dataset = torchvision.datasets.CIFAR10(\n",
    "        root='../chapter3-data/', train=True, download=True,\n",
    "        transform=transforms)\n",
    "    test_dataset = torchvision.datasets.CIFAR10(\n",
    "        root='../chapter3-data/', train=False, download=True,\n",
    "        transform=transforms)\n",
    "\n",
    "    # 学習・検証セットへ分割するためのインデックス集合の生成\n",
    "    val_set, train_set = utils.generate_subset(\n",
    "        train_dataset, config.val_ratio)\n",
    "\n",
    "    print(f'学習セットのサンプル数　: {len(train_set)}')\n",
    "    print(f'検証セットのサンプル数　: {len(val_set)}')\n",
    "    print(f'テストセットのサンプル数: {len(test_dataset)}')\n",
    "\n",
    "    # インデックス集合から無作為にインデックスをサンプルするサンプラー\n",
    "    train_sampler = SubsetRandomSampler(train_set)\n",
    "\n",
    "    # DataLoaderを生成\n",
    "    train_loader = DataLoader(\n",
    "        train_dataset, batch_size=config.batch_size,\n",
    "        num_workers=config.num_workers, sampler=train_sampler)\n",
    "    val_loader = DataLoader(\n",
    "        train_dataset, batch_size=config.batch_size,\n",
    "        num_workers=config.num_workers, sampler=val_set)\n",
    "    test_loader = DataLoader(\n",
    "        test_dataset, batch_size=config.batch_size,\n",
    "        num_workers=config.num_workers)\n",
    "    \n",
    "    # 目的関数の生成\n",
    "    loss_func = F.cross_entropy\n",
    "\n",
    "    # 検証セットの結果による最良モデルの保存用変数\n",
    "    val_loss_best = float('inf')\n",
    "    model_best = None\n",
    "    \n",
    "    # Vision Transformerモデルの生成\n",
    "    model = VisionTransformer(\n",
    "        len(train_dataset.classes), 32, config.patch_size,\n",
    "        config.dim_hidden, config.num_heads, config.dim_feedforward,\n",
    "        config.num_layers)\n",
    "\n",
    "    # モデルを指定デバイスに転送(デフォルトはGPU)\n",
    "    model.to(config.device)\n",
    "\n",
    "    # 最適化器の生成\n",
    "    optimizer = optim.SGD(model.parameters(), lr=config.lr)\n",
    "\n",
    "    for epoch in range(config.num_epochs):\n",
    "        model.train()\n",
    "            \n",
    "        with tqdm(train_loader) as pbar:\n",
    "            pbar.set_description(f'[エポック {epoch + 1}]')\n",
    "\n",
    "            # 移動平均計算用\n",
    "            losses = deque()\n",
    "            accs = deque()\n",
    "            for x, y in pbar:\n",
    "                # データをモデルと同じデバイスに転送\n",
    "                x = x.to(model.get_device())\n",
    "                y = y.to(model.get_device())\n",
    "                    \n",
    "                # パラメータの勾配をリセット\n",
    "                optimizer.zero_grad()\n",
    "\n",
    "                # 順伝播\n",
    "                y_pred = model(x)\n",
    "\n",
    "                # 学習データに対する損失と正確度を計算\n",
    "                loss = loss_func(y_pred, y)\n",
    "                accuracy = (y_pred.argmax(dim=1) == \\\n",
    "                            y).float().mean()\n",
    "\n",
    "                # 誤差逆伝播\n",
    "                loss.backward()\n",
    "\n",
    "                # パラメータの更新\n",
    "                optimizer.step()\n",
    "\n",
    "                # 移動平均を計算して表示\n",
    "                losses.append(loss.item())\n",
    "                accs.append(accuracy.item())\n",
    "                if len(losses) > config.moving_avg:\n",
    "                    losses.popleft()\n",
    "                    accs.popleft()\n",
    "                pbar.set_postfix({\n",
    "                    'loss': torch.Tensor(losses).mean().item(),\n",
    "                    'accuracy': torch.Tensor(accs).mean().item()})\n",
    "\n",
    "        # 検証セットを使って精度評価\n",
    "        val_loss, val_accuracy = utils.evaluate(\n",
    "            val_loader, model, loss_func)\n",
    "        print(f'検証　: loss = {val_loss:.3f}, '\n",
    "                f'accuracy = {val_accuracy:.3f}')\n",
    "\n",
    "        # より良い検証結果が得られた場合、モデルを記録\n",
    "        if val_loss < val_loss_best:\n",
    "            val_loss_best = val_loss\n",
    "            model_best = model.copy()\n",
    "\n",
    "    # テスト\n",
    "    test_loss, test_accuracy = utils.evaluate(\n",
    "        test_loader, model_best, loss_func)\n",
    "    print(f'テスト: loss = {test_loss:.3f}, '\n",
    "          f'accuracy = {test_accuracy:.3f}')\n",
    "    \n",
    "    # t-SNEを使って特徴量の分布をプロット\n",
    "    utils.plot_t_sne(test_loader, model_best, config.num_samples)"
   ]
  },
  {
   "cell_type": "code",
   "execution_count": 16,
   "metadata": {},
   "outputs": [
    {
     "name": "stdout",
     "output_type": "stream",
     "text": [
      "Files already downloaded and verified\n",
      "Files already downloaded and verified\n",
      "Files already downloaded and verified\n",
      "学習セットのサンプル数　: 40000\n",
      "検証セットのサンプル数　: 10000\n",
      "テストセットのサンプル数: 10000\n"
     ]
    },
    {
     "name": "stderr",
     "output_type": "stream",
     "text": [
      "[エポック 1]: 100%|██████████| 1250/1250 [00:21<00:00, 58.35it/s, loss=1.73, accuracy=0.375]\n"
     ]
    },
    {
     "name": "stdout",
     "output_type": "stream",
     "text": [
      "検証　: loss = 1.824, accuracy = 0.311\n"
     ]
    },
    {
     "name": "stderr",
     "output_type": "stream",
     "text": [
      "[エポック 2]: 100%|██████████| 1250/1250 [00:21<00:00, 59.30it/s, loss=1.49, accuracy=0.464]\n"
     ]
    },
    {
     "name": "stdout",
     "output_type": "stream",
     "text": [
      "検証　: loss = 1.554, accuracy = 0.437\n"
     ]
    },
    {
     "name": "stderr",
     "output_type": "stream",
     "text": [
      "[エポック 3]: 100%|██████████| 1250/1250 [00:20<00:00, 59.70it/s, loss=1.42, accuracy=0.475]\n"
     ]
    },
    {
     "name": "stdout",
     "output_type": "stream",
     "text": [
      "検証　: loss = 1.501, accuracy = 0.465\n"
     ]
    },
    {
     "name": "stderr",
     "output_type": "stream",
     "text": [
      "[エポック 4]: 100%|██████████| 1250/1250 [00:21<00:00, 59.32it/s, loss=1.3, accuracy=0.545] \n"
     ]
    },
    {
     "name": "stdout",
     "output_type": "stream",
     "text": [
      "検証　: loss = 1.311, accuracy = 0.529\n"
     ]
    },
    {
     "name": "stderr",
     "output_type": "stream",
     "text": [
      "[エポック 5]: 100%|██████████| 1250/1250 [00:21<00:00, 58.92it/s, loss=1.28, accuracy=0.555]\n"
     ]
    },
    {
     "name": "stdout",
     "output_type": "stream",
     "text": [
      "検証　: loss = 1.289, accuracy = 0.535\n"
     ]
    },
    {
     "name": "stderr",
     "output_type": "stream",
     "text": [
      "[エポック 6]: 100%|██████████| 1250/1250 [00:21<00:00, 59.26it/s, loss=1.11, accuracy=0.609]\n"
     ]
    },
    {
     "name": "stdout",
     "output_type": "stream",
     "text": [
      "検証　: loss = 1.221, accuracy = 0.568\n"
     ]
    },
    {
     "name": "stderr",
     "output_type": "stream",
     "text": [
      "[エポック 7]: 100%|██████████| 1250/1250 [00:21<00:00, 58.93it/s, loss=1.12, accuracy=0.606]\n"
     ]
    },
    {
     "name": "stdout",
     "output_type": "stream",
     "text": [
      "検証　: loss = 1.190, accuracy = 0.575\n"
     ]
    },
    {
     "name": "stderr",
     "output_type": "stream",
     "text": [
      "[エポック 8]: 100%|██████████| 1250/1250 [00:21<00:00, 59.39it/s, loss=1.11, accuracy=0.616] \n"
     ]
    },
    {
     "name": "stdout",
     "output_type": "stream",
     "text": [
      "検証　: loss = 1.167, accuracy = 0.587\n"
     ]
    },
    {
     "name": "stderr",
     "output_type": "stream",
     "text": [
      "[エポック 9]: 100%|██████████| 1250/1250 [00:21<00:00, 59.19it/s, loss=1.03, accuracy=0.641] \n"
     ]
    },
    {
     "name": "stdout",
     "output_type": "stream",
     "text": [
      "検証　: loss = 1.156, accuracy = 0.591\n"
     ]
    },
    {
     "name": "stderr",
     "output_type": "stream",
     "text": [
      "[エポック 10]: 100%|██████████| 1250/1250 [00:21<00:00, 58.94it/s, loss=1.02, accuracy=0.641] \n"
     ]
    },
    {
     "name": "stdout",
     "output_type": "stream",
     "text": [
      "検証　: loss = 1.093, accuracy = 0.613\n"
     ]
    },
    {
     "name": "stderr",
     "output_type": "stream",
     "text": [
      "[エポック 11]: 100%|██████████| 1250/1250 [00:21<00:00, 58.69it/s, loss=0.969, accuracy=0.652]\n"
     ]
    },
    {
     "name": "stdout",
     "output_type": "stream",
     "text": [
      "検証　: loss = 1.121, accuracy = 0.604\n"
     ]
    },
    {
     "name": "stderr",
     "output_type": "stream",
     "text": [
      "[エポック 12]: 100%|██████████| 1250/1250 [00:21<00:00, 58.93it/s, loss=0.895, accuracy=0.703]\n"
     ]
    },
    {
     "name": "stdout",
     "output_type": "stream",
     "text": [
      "検証　: loss = 1.132, accuracy = 0.607\n"
     ]
    },
    {
     "name": "stderr",
     "output_type": "stream",
     "text": [
      "[エポック 13]: 100%|██████████| 1250/1250 [00:21<00:00, 59.16it/s, loss=0.854, accuracy=0.677]\n"
     ]
    },
    {
     "name": "stdout",
     "output_type": "stream",
     "text": [
      "検証　: loss = 1.075, accuracy = 0.624\n"
     ]
    },
    {
     "name": "stderr",
     "output_type": "stream",
     "text": [
      "[エポック 14]: 100%|██████████| 1250/1250 [00:21<00:00, 59.23it/s, loss=0.816, accuracy=0.712]\n"
     ]
    },
    {
     "name": "stdout",
     "output_type": "stream",
     "text": [
      "検証　: loss = 1.082, accuracy = 0.627\n"
     ]
    },
    {
     "name": "stderr",
     "output_type": "stream",
     "text": [
      "[エポック 15]: 100%|██████████| 1250/1250 [00:21<00:00, 58.71it/s, loss=0.705, accuracy=0.742]\n"
     ]
    },
    {
     "name": "stdout",
     "output_type": "stream",
     "text": [
      "検証　: loss = 1.055, accuracy = 0.641\n"
     ]
    },
    {
     "name": "stderr",
     "output_type": "stream",
     "text": [
      "[エポック 16]: 100%|██████████| 1250/1250 [00:21<00:00, 59.19it/s, loss=0.72, accuracy=0.742] \n"
     ]
    },
    {
     "name": "stdout",
     "output_type": "stream",
     "text": [
      "検証　: loss = 1.067, accuracy = 0.634\n"
     ]
    },
    {
     "name": "stderr",
     "output_type": "stream",
     "text": [
      "[エポック 17]: 100%|██████████| 1250/1250 [00:21<00:00, 59.20it/s, loss=0.665, accuracy=0.755]\n"
     ]
    },
    {
     "name": "stdout",
     "output_type": "stream",
     "text": [
      "検証　: loss = 1.086, accuracy = 0.646\n"
     ]
    },
    {
     "name": "stderr",
     "output_type": "stream",
     "text": [
      "[エポック 18]: 100%|██████████| 1250/1250 [00:21<00:00, 58.76it/s, loss=0.586, accuracy=0.791]\n"
     ]
    },
    {
     "name": "stdout",
     "output_type": "stream",
     "text": [
      "検証　: loss = 1.129, accuracy = 0.636\n"
     ]
    },
    {
     "name": "stderr",
     "output_type": "stream",
     "text": [
      "[エポック 19]: 100%|██████████| 1250/1250 [00:21<00:00, 58.81it/s, loss=0.516, accuracy=0.802]\n"
     ]
    },
    {
     "name": "stdout",
     "output_type": "stream",
     "text": [
      "検証　: loss = 1.182, accuracy = 0.639\n"
     ]
    },
    {
     "name": "stderr",
     "output_type": "stream",
     "text": [
      "[エポック 20]: 100%|██████████| 1250/1250 [00:21<00:00, 58.82it/s, loss=0.437, accuracy=0.85] \n"
     ]
    },
    {
     "name": "stdout",
     "output_type": "stream",
     "text": [
      "検証　: loss = 1.184, accuracy = 0.643\n"
     ]
    },
    {
     "name": "stderr",
     "output_type": "stream",
     "text": [
      "[エポック 21]: 100%|██████████| 1250/1250 [00:21<00:00, 58.61it/s, loss=0.497, accuracy=0.827]\n"
     ]
    },
    {
     "name": "stdout",
     "output_type": "stream",
     "text": [
      "検証　: loss = 1.261, accuracy = 0.646\n"
     ]
    },
    {
     "name": "stderr",
     "output_type": "stream",
     "text": [
      "[エポック 22]: 100%|██████████| 1250/1250 [00:21<00:00, 58.86it/s, loss=0.302, accuracy=0.878]\n"
     ]
    },
    {
     "name": "stdout",
     "output_type": "stream",
     "text": [
      "検証　: loss = 1.336, accuracy = 0.642\n"
     ]
    },
    {
     "name": "stderr",
     "output_type": "stream",
     "text": [
      "[エポック 23]: 100%|██████████| 1250/1250 [00:21<00:00, 58.08it/s, loss=0.393, accuracy=0.866]\n"
     ]
    },
    {
     "name": "stdout",
     "output_type": "stream",
     "text": [
      "検証　: loss = 1.385, accuracy = 0.640\n"
     ]
    },
    {
     "name": "stderr",
     "output_type": "stream",
     "text": [
      "[エポック 24]: 100%|██████████| 1250/1250 [00:21<00:00, 58.89it/s, loss=0.299, accuracy=0.883]\n"
     ]
    },
    {
     "name": "stdout",
     "output_type": "stream",
     "text": [
      "検証　: loss = 1.570, accuracy = 0.629\n"
     ]
    },
    {
     "name": "stderr",
     "output_type": "stream",
     "text": [
      "[エポック 25]: 100%|██████████| 1250/1250 [00:21<00:00, 58.37it/s, loss=0.203, accuracy=0.919]\n"
     ]
    },
    {
     "name": "stdout",
     "output_type": "stream",
     "text": [
      "検証　: loss = 1.656, accuracy = 0.630\n"
     ]
    },
    {
     "name": "stderr",
     "output_type": "stream",
     "text": [
      "[エポック 26]: 100%|██████████| 1250/1250 [00:21<00:00, 58.60it/s, loss=0.16, accuracy=0.945] \n"
     ]
    },
    {
     "name": "stdout",
     "output_type": "stream",
     "text": [
      "検証　: loss = 1.766, accuracy = 0.638\n"
     ]
    },
    {
     "name": "stderr",
     "output_type": "stream",
     "text": [
      "[エポック 27]: 100%|██████████| 1250/1250 [00:21<00:00, 58.60it/s, loss=0.129, accuracy=0.948] \n"
     ]
    },
    {
     "name": "stdout",
     "output_type": "stream",
     "text": [
      "検証　: loss = 1.768, accuracy = 0.647\n"
     ]
    },
    {
     "name": "stderr",
     "output_type": "stream",
     "text": [
      "[エポック 28]: 100%|██████████| 1250/1250 [00:21<00:00, 57.34it/s, loss=0.091, accuracy=0.97]  \n"
     ]
    },
    {
     "name": "stdout",
     "output_type": "stream",
     "text": [
      "検証　: loss = 1.946, accuracy = 0.633\n"
     ]
    },
    {
     "name": "stderr",
     "output_type": "stream",
     "text": [
      "[エポック 29]: 100%|██████████| 1250/1250 [00:21<00:00, 58.77it/s, loss=0.0215, accuracy=0.995]\n"
     ]
    },
    {
     "name": "stdout",
     "output_type": "stream",
     "text": [
      "検証　: loss = 1.959, accuracy = 0.645\n"
     ]
    },
    {
     "name": "stderr",
     "output_type": "stream",
     "text": [
      "[エポック 30]: 100%|██████████| 1250/1250 [00:21<00:00, 58.91it/s, loss=0.00528, accuracy=1]   \n"
     ]
    },
    {
     "name": "stdout",
     "output_type": "stream",
     "text": [
      "検証　: loss = 1.967, accuracy = 0.659\n",
      "テスト: loss = 1.076, accuracy = 0.636\n"
     ]
    },
    {
     "name": "stderr",
     "output_type": "stream",
     "text": [
      "/opt/conda/lib/python3.8/site-packages/sklearn/manifold/_t_sne.py:800: FutureWarning: The default initialization in TSNE will change from 'random' to 'pca' in 1.2.\n",
      "  warnings.warn(\n",
      "/opt/conda/lib/python3.8/site-packages/sklearn/manifold/_t_sne.py:810: FutureWarning: The default learning rate in TSNE will change from 200.0 to 'auto' in 1.2.\n",
      "  warnings.warn(\n"
     ]
    },
    {
     "data": {
      "image/png": "[encoded data removed]",
      "text/plain": [
       "<Figure size 1440x1080 with 1 Axes>"
      ]
     },
     "metadata": {
      "needs_background": "light"
     },
     "output_type": "display_data"
    }
   ],
   "source": [
    "# 学習・評価の実行\n",
    "train_eval()"
   ]
  },
  {
   "cell_type": "code",
   "execution_count": null,
   "metadata": {},
   "outputs": [],
   "source": []
  }
 ],
 "metadata": {
  "kernelspec": {
   "display_name": "base",
   "language": "python",
   "name": "python3"
  },
  "language_info": {
   "codemirror_mode": {
    "name": "ipython",
    "version": 3
   },
   "file_extension": ".py",
   "mimetype": "text/x-python",
   "name": "python",
   "nbconvert_exporter": "python",
   "pygments_lexer": "ipython3",
   "version": "3.8.13"
  },
  "orig_nbformat": 4
 },
 "nbformat": 4,
 "nbformat_minor": 2
}
