{
 "cells": [
  {
   "attachments": {},
   "cell_type": "markdown",
   "metadata": {},
   "source": [
    "### 第4章画像分類（その2）\n",
    "#### 畳み込みニューラルネットワーク"
   ]
  },
  {
   "cell_type": "code",
   "execution_count": 1,
   "metadata": {},
   "outputs": [
    {
     "name": "stderr",
     "output_type": "stream",
     "text": [
      "/opt/conda/lib/python3.8/site-packages/tqdm/auto.py:22: TqdmWarning: IProgress not found. Please update jupyter and ipywidgets. See https://ipywidgets.readthedocs.io/en/stable/user_install.html\n",
      "  from .autonotebook import tqdm as notebook_tqdm\n"
     ]
    }
   ],
   "source": [
    "from collections import deque\n",
    "import copy\n",
    "from tqdm import tqdm\n",
    "\n",
    "import torch\n",
    "from torch import nn, optim\n",
    "import torch.nn.functional as F\n",
    "from torch.utils.data import Dataset, DataLoader\n",
    "from torch.utils.data.sampler import SubsetRandomSampler\n",
    "import torchvision\n",
    "import torchvision.transforms as T\n",
    "\n",
    "from src import utils, transform"
   ]
  },
  {
   "cell_type": "code",
   "execution_count": 2,
   "metadata": {},
   "outputs": [],
   "source": [
    "# 各チャネルのデータセット全体の平均と標準偏差を計算する関数\n",
    "def get_dataset_statistics(dataset: DataLoader):\n",
    "    data = []\n",
    "    for i in range(len(dataset)):\n",
    "        # [チャネル数, 高さ, 幅]の画像を取得\n",
    "        img = dataset[i][0]\n",
    "        data.append(img)\n",
    "        data = torch.stack(data)\n",
    "        \n",
    "        # 各チャネルの平均と標準偏差を計算\n",
    "        channel_mean = data.mean(dim=(0, 2, 3))\n",
    "        channel_std = data.std(dim=(0, 2, 3))\n",
    "        \n",
    "        return channel_mean, channel_std"
   ]
  },
  {
   "attachments": {},
   "cell_type": "markdown",
   "metadata": {},
   "source": [
    "#### ResNet18の構造\n",
    "- 畳み込み層と全結合層を合わせて18層持つ\n",
    "- スキップ接続、残差接続を持つ"
   ]
  },
  {
   "cell_type": "code",
   "execution_count": 8,
   "metadata": {},
   "outputs": [],
   "source": [
    "# 残差ブロックの実装\n",
    "class BasicBlock(nn.Module):\n",
    "    \"\"\"\n",
    "    ResNet18における残差ブロック\n",
    "    in_channels  : 入力チャネル数\n",
    "    out_channels : 出力チャネル数\n",
    "    stride       : 畳み込み層のストライド\n",
    "    \"\"\"\n",
    "    def __init__(self, in_channels: int, out_channels: int, stride: int=1):\n",
    "        super().__init__()\n",
    "        \n",
    "        \"\"\"残差接続\"\"\"\n",
    "        self.conv1 = nn.Conv2d(in_channels, out_channels,\n",
    "                               kernel_size=3, stride=stride,\n",
    "                               padding=1, bias=False)\n",
    "        self.bn1 = nn.BatchNorm2d(out_channels)\n",
    "        self.conv2 = nn.Conv2d(out_channels, out_channels,\n",
    "                               kernel_size=3, padding=1, bias=False)\n",
    "        self.bn2 = nn.BatchNorm2d(out_channels)\n",
    "        self.relu = nn.ReLU(inplace=True)\n",
    "        \"\"\"\"\"\"\n",
    "        \n",
    "        # ストライドが1より大きい時にスキップ接続と残差接続から得られる\n",
    "        # 特徴マップの高さと幅を合わせるために、別途畳み込み演算を用意\n",
    "        self.downsample = None\n",
    "        if stride > 1:\n",
    "            self.downsample = nn.Sequential(\n",
    "                nn.Conv2d(in_channels, out_channels, kernel_size=1,\n",
    "                          stride=stride, bias=False),\n",
    "                nn.BatchNorm2d(out_channels)\n",
    "            )\n",
    "    \n",
    "    \"\"\"\n",
    "    順伝播関数\n",
    "    x : 入力,[バッチサイズ, 入力チャネル数, 高さ, 幅] \n",
    "    \"\"\"\n",
    "    def forward(self, x: torch.Tensor):\n",
    "        \"\"\"残差接続\"\"\"\n",
    "        out = self.conv1(x)\n",
    "        out = self.bn1(out)\n",
    "        out = self.relu(out)\n",
    "        out = self.conv2(out)\n",
    "        out = self.bn2(out)\n",
    "        \"\"\"\"\"\"\n",
    "        \n",
    "        # 残差接続て特徴マップが縮小される場合\n",
    "        # スキップ接続の特徴マップを縮小してあわせる\n",
    "        if self.downsample is not None:\n",
    "            x = self.downsample(x)\n",
    "            \n",
    "        # 残差写像と恒等写像の要素ごとの和を計算\n",
    "        out += x\n",
    "        \n",
    "        out = self.relu(out)\n",
    "        \n",
    "        return out"
   ]
  },
  {
   "cell_type": "code",
   "execution_count": 4,
   "metadata": {},
   "outputs": [],
   "source": [
    "# ResNet18の実装\n",
    "class ResNet18(nn.Module):\n",
    "    \"\"\"\n",
    "    ResNet18モデル\n",
    "    num_classes : 分類対象の物体クラス数\n",
    "    \"\"\"\n",
    "    def __init__(self, num_classes: int):\n",
    "        super().__init__()\n",
    "        \n",
    "        self.conv1 = nn.Conv2d(3, 64, kernel_size=7, stride=2,\n",
    "                               padding=3, bias=False)\n",
    "        self.bn1 = nn.BatchNorm2d(64)\n",
    "        self.relu = nn.ReLU(inplace=True)\n",
    "        \n",
    "        self.max_pool = nn.MaxPool2d(kernel_size=3, stride=2, padding=1)\n",
    "        \n",
    "        self.layer1 = nn.Sequential(\n",
    "            BasicBlock(64, 64),\n",
    "            BasicBlock(64, 64),\n",
    "        )\n",
    "        self.layer2 = nn.Sequential(\n",
    "            BasicBlock(64, 128, stride=2),\n",
    "            BasicBlock(128, 128),\n",
    "        )\n",
    "        self.layer3 = nn.Sequential(\n",
    "            BasicBlock(128, 256, stride=2),\n",
    "            BasicBlock(256, 256),\n",
    "        )\n",
    "        self.layer4 = nn.Sequential(\n",
    "            BasicBlock(256, 512, stride=2),\n",
    "            BasicBlock(512, 512),\n",
    "        )\n",
    "        \n",
    "        self.avg_pool = nn.AdaptiveAvgPool2d(1)\n",
    "        \n",
    "        self.linear = nn.Linear(512, num_classes)\n",
    "        \n",
    "    \"\"\"\n",
    "    順伝播関数\n",
    "    x            : 入力, [バッチサイズ, 入力チャネル数, 高さ, 幅]\n",
    "    return_embed : 特徴量を返すかロジットを返すか選択する真偽値 \n",
    "    \"\"\"\n",
    "    def forward(self, x: torch.Tensor, return_embed: bool=False):\n",
    "        x = self.conv1(x)\n",
    "        x = self.bn1(x)\n",
    "        x = self.relu(x)\n",
    "        x = self.max_pool(x)\n",
    "        \n",
    "        x = self.layer1(x)\n",
    "        x = self.layer2(x)\n",
    "        x = self.layer3(x)\n",
    "        x = self.layer4(x)\n",
    "        \n",
    "        x = self.avg_pool(x)\n",
    "        x = x.flatten(1)\n",
    "        \n",
    "        if return_embed:\n",
    "            return x\n",
    "        \n",
    "        x = self.linear(x)\n",
    "        \n",
    "        return x\n",
    "    \n",
    "    \"\"\"\n",
    "    モデルが保存されているデバイスを返す関数\n",
    "    \"\"\"\n",
    "    def get_device(self):\n",
    "        return self.linear.weight.device\n",
    "    \n",
    "    \"\"\"\n",
    "    モデルを複製して返す関数\n",
    "    \"\"\"\n",
    "    def copy(self):\n",
    "        return copy.deepcopy(self)"
   ]
  },
  {
   "cell_type": "code",
   "execution_count": 5,
   "metadata": {},
   "outputs": [],
   "source": [
    "# 学習・評価におけるハイパーパラメータやオプションの設定\n",
    "class Config:\n",
    "    def __init__(self):\n",
    "        self.val_ratio = 0.2 # 検証に使う学習セット内のデータの割合\n",
    "        self.num_epochs = 30 # 学習エポック数\n",
    "        self.lr = 1e-2 # 学習率\n",
    "        self.moving_avg = 20 # 移動平均で計算する損失と正確度の値\n",
    "        self.batch_size = 32 # バッチサイズ\n",
    "        self.num_workers = 2 # データローダに使うcpuプロセス数\n",
    "        self.device = 'cuda' # 学習に使うデバイス\n",
    "        self.num_samples = 200 # t-SNEでプロットするサンプル数"
   ]
  },
  {
   "cell_type": "code",
   "execution_count": 10,
   "metadata": {},
   "outputs": [],
   "source": [
    "# 学習・評価を行う関数\n",
    "def train_eval():\n",
    "    config = Config()\n",
    "    \n",
    "    # 入力データ正規化のために学習セットのデータを使って\n",
    "    # 各チャネルの平均と標準偏差を計算\n",
    "    dataset = torchvision.datasets.CIFAR10(\n",
    "        root=\"../chapter3-data/\", train=True, download=True,\n",
    "        transform=T.ToTensor()\n",
    "    )\n",
    "    channel_mean, channel_std = get_dataset_statistics(dataset)\n",
    "    \n",
    "    # 画像の整形を行うクラスのインスタンスを用意\n",
    "    transforms = T.Compose((\n",
    "        T.ToTensor(),\n",
    "        T.Normalize(mean=channel_mean, std=channel_std),\n",
    "    ))\n",
    "    \n",
    "    # 学習、評価セットの用意\n",
    "    train_dataset = torchvision.datasets.CIFAR10(\n",
    "        root=\"../chapter3-data/\", train=True, download=True,\n",
    "        transform=transforms\n",
    "    )\n",
    "    test_dataset = torchvision.datasets.CIFAR10(\n",
    "        root=\"../chapter3-data/\", train=False, download=True,\n",
    "        transform=transforms\n",
    "    )\n",
    "    \n",
    "    # 学習・検証セットへ分割するためにインデックス集合の生成\n",
    "    val_set, train_set = utils.generate_subset(\n",
    "        train_dataset, config.val_ratio\n",
    "    )\n",
    "    \n",
    "    print(f'学習セットのサンプル数: {len(train_set)}')\n",
    "    print(f'検証セットのサンプル数: {len(val_set)}')\n",
    "    print(f'テストセットのサンプル数: {len(test_dataset)}')\n",
    "    \n",
    "    # インデックス集合から無作為にインデックスをサンプルするサンプラー\n",
    "    train_sampler = SubsetRandomSampler(train_set)\n",
    "    \n",
    "    # DataLoaderの生成\n",
    "    train_loader = DataLoader(\n",
    "        train_dataset, batch_size=config.batch_size,\n",
    "        num_workers=config.num_workers, sampler=train_sampler\n",
    "    )\n",
    "    val_loader = DataLoader(\n",
    "        train_dataset, batch_size=config.batch_size,\n",
    "        num_workers=config.num_workers, sampler=val_set\n",
    "    )\n",
    "    test_loader = DataLoader(\n",
    "        test_dataset, batch_size=config.batch_size,\n",
    "        num_workers=config.num_workers\n",
    "    )\n",
    "    \n",
    "    # 目的関数の生成\n",
    "    loss_func = F.cross_entropy\n",
    "    \n",
    "    # 検証セットの結果による最良モデルの保存用変数\n",
    "    val_loss_best = float('inf')\n",
    "    model_best = None\n",
    "    \n",
    "    # ResNet18モデルの生成\n",
    "    model = ResNet18(len(train_dataset.classes))\n",
    "    \n",
    "    # モデルを指定デバイスに転送（デフォルトGPU）\n",
    "    model.to(config.device)\n",
    "    \n",
    "    # 最適化器の生成\n",
    "    optimizer = optim.SGD(model.parameters(), lr=config.lr)\n",
    "    \n",
    "    for epoch in range(config.num_epochs):\n",
    "        model.train()\n",
    "        \n",
    "        with tqdm(train_loader) as pbar:\n",
    "            pbar.set_description(f'[エポック: {epoch+1}]')\n",
    "            \n",
    "            # 移動平均計算用\n",
    "            losses = deque()\n",
    "            acss = deque()\n",
    "            for x, y in pbar:\n",
    "                # データをモデルと同じデバイスに転送\n",
    "                x = x.to(model.get_device())\n",
    "                y = y.to(model.get_device())\n",
    "                \n",
    "                # パラメータの勾配をリセット\n",
    "                optimizer.zero_grad()\n",
    "                \n",
    "                # 順伝播\n",
    "                y_pred = model(x)\n",
    "                \n",
    "                # 学習データに対する欠損と正確度を計算\n",
    "                loss = loss_func(y_pred, y)\n",
    "                accuracy = (y_pred.argmax(dim=1) == y).float().mean()\n",
    "                \n",
    "                # 誤差逆伝播\n",
    "                loss.backward()\n",
    "                \n",
    "                # パラメータ更新\n",
    "                optimizer.step()\n",
    "                \n",
    "                # 移動平均を計算して表示\n",
    "                losses.append(loss.item())\n",
    "                acss.append(accuracy.item())\n",
    "                if len(losses) > config.moving_avg:\n",
    "                    losses.popleft()\n",
    "                    acss.popleft()\n",
    "                pbar.set_postfix({\n",
    "                    'loss': torch.Tensor(losses).mean().item(),\n",
    "                    'accuracy': torch.Tensor(acss).mean().item()})\n",
    "                \n",
    "        # 検証セットを使って精度評価\n",
    "        val_loss, val_accuracy = utils.evaluate(\n",
    "            val_loader, model, loss_func\n",
    "        )\n",
    "        print(f'検証: loss = {val_loss:.3f}, accuracy = {val_accuracy:.3f}')\n",
    "        \n",
    "        # より良い検証結果が得られた場合、モデルを記録\n",
    "        if val_loss < val_loss_best:\n",
    "            val_loss_best = val_loss\n",
    "            model_best = model.copy()\n",
    "            \n",
    "    # テスト\n",
    "    test_loss, test_accuracy = utils.evaluate(\n",
    "        test_loader, model_best, loss_func\n",
    "    )\n",
    "    print(f'テスト: loss = {test_loss:.3f}, accuracy = {test_accuracy:.3f}')\n",
    "    \n",
    "    # t-SNEを使って特徴量の分布をプロット\n",
    "    utils.plot_t_sne(test_loader, model_best, config.num_samples)\n",
    "    "
   ]
  },
  {
   "cell_type": "code",
   "execution_count": 11,
   "metadata": {},
   "outputs": [
    {
     "name": "stdout",
     "output_type": "stream",
     "text": [
      "Files already downloaded and verified\n",
      "Files already downloaded and verified\n",
      "Files already downloaded and verified\n",
      "学習セットのサンプル数: 40000\n",
      "検証セットのサンプル数: 10000\n",
      "テストセットのサンプル数: 10000\n"
     ]
    },
    {
     "name": "stderr",
     "output_type": "stream",
     "text": [
      "[エポック: 1]: 100%|██████████| 1250/1250 [00:20<00:00, 61.23it/s, loss=1.29, accuracy=0.552]\n"
     ]
    },
    {
     "name": "stdout",
     "output_type": "stream",
     "text": [
      "検証: loss = 1.160, accuracy = 0.588\n"
     ]
    },
    {
     "name": "stderr",
     "output_type": "stream",
     "text": [
      "[エポック: 2]: 100%|██████████| 1250/1250 [00:19<00:00, 63.06it/s, loss=1.04, accuracy=0.631] \n"
     ]
    },
    {
     "name": "stdout",
     "output_type": "stream",
     "text": [
      "検証: loss = 0.975, accuracy = 0.653\n"
     ]
    },
    {
     "name": "stderr",
     "output_type": "stream",
     "text": [
      "[エポック: 3]: 100%|██████████| 1250/1250 [00:19<00:00, 63.10it/s, loss=0.937, accuracy=0.672]\n"
     ]
    },
    {
     "name": "stdout",
     "output_type": "stream",
     "text": [
      "検証: loss = 0.919, accuracy = 0.678\n"
     ]
    },
    {
     "name": "stderr",
     "output_type": "stream",
     "text": [
      "[エポック: 4]: 100%|██████████| 1250/1250 [00:20<00:00, 62.36it/s, loss=0.754, accuracy=0.747]\n"
     ]
    },
    {
     "name": "stdout",
     "output_type": "stream",
     "text": [
      "検証: loss = 0.878, accuracy = 0.704\n"
     ]
    },
    {
     "name": "stderr",
     "output_type": "stream",
     "text": [
      "[エポック: 5]: 100%|██████████| 1250/1250 [00:20<00:00, 62.44it/s, loss=0.642, accuracy=0.767]\n"
     ]
    },
    {
     "name": "stdout",
     "output_type": "stream",
     "text": [
      "検証: loss = 0.842, accuracy = 0.719\n"
     ]
    },
    {
     "name": "stderr",
     "output_type": "stream",
     "text": [
      "[エポック: 6]: 100%|██████████| 1250/1250 [00:19<00:00, 62.79it/s, loss=0.544, accuracy=0.814]\n"
     ]
    },
    {
     "name": "stdout",
     "output_type": "stream",
     "text": [
      "検証: loss = 0.881, accuracy = 0.714\n"
     ]
    },
    {
     "name": "stderr",
     "output_type": "stream",
     "text": [
      "[エポック: 7]: 100%|██████████| 1250/1250 [00:19<00:00, 62.71it/s, loss=0.443, accuracy=0.848]\n"
     ]
    },
    {
     "name": "stdout",
     "output_type": "stream",
     "text": [
      "検証: loss = 0.896, accuracy = 0.722\n"
     ]
    },
    {
     "name": "stderr",
     "output_type": "stream",
     "text": [
      "[エポック: 8]: 100%|██████████| 1250/1250 [00:20<00:00, 62.26it/s, loss=0.372, accuracy=0.873]\n"
     ]
    },
    {
     "name": "stdout",
     "output_type": "stream",
     "text": [
      "検証: loss = 0.884, accuracy = 0.731\n"
     ]
    },
    {
     "name": "stderr",
     "output_type": "stream",
     "text": [
      "[エポック: 9]: 100%|██████████| 1250/1250 [00:20<00:00, 62.15it/s, loss=0.257, accuracy=0.916]\n"
     ]
    },
    {
     "name": "stdout",
     "output_type": "stream",
     "text": [
      "検証: loss = 0.974, accuracy = 0.722\n"
     ]
    },
    {
     "name": "stderr",
     "output_type": "stream",
     "text": [
      "[エポック: 10]: 100%|██████████| 1250/1250 [00:19<00:00, 62.51it/s, loss=0.303, accuracy=0.881]\n"
     ]
    },
    {
     "name": "stdout",
     "output_type": "stream",
     "text": [
      "検証: loss = 1.078, accuracy = 0.721\n"
     ]
    },
    {
     "name": "stderr",
     "output_type": "stream",
     "text": [
      "[エポック: 11]: 100%|██████████| 1250/1250 [00:21<00:00, 59.46it/s, loss=0.27, accuracy=0.906] \n"
     ]
    },
    {
     "name": "stdout",
     "output_type": "stream",
     "text": [
      "検証: loss = 1.072, accuracy = 0.729\n"
     ]
    },
    {
     "name": "stderr",
     "output_type": "stream",
     "text": [
      "[エポック: 12]: 100%|██████████| 1250/1250 [00:21<00:00, 58.49it/s, loss=0.211, accuracy=0.93] \n"
     ]
    },
    {
     "name": "stdout",
     "output_type": "stream",
     "text": [
      "検証: loss = 1.054, accuracy = 0.730\n"
     ]
    },
    {
     "name": "stderr",
     "output_type": "stream",
     "text": [
      "[エポック: 13]: 100%|██████████| 1250/1250 [00:22<00:00, 56.56it/s, loss=0.167, accuracy=0.93] \n"
     ]
    },
    {
     "name": "stdout",
     "output_type": "stream",
     "text": [
      "検証: loss = 1.113, accuracy = 0.734\n"
     ]
    },
    {
     "name": "stderr",
     "output_type": "stream",
     "text": [
      "[エポック: 14]: 100%|██████████| 1250/1250 [00:20<00:00, 59.89it/s, loss=0.145, accuracy=0.95]  \n"
     ]
    },
    {
     "name": "stdout",
     "output_type": "stream",
     "text": [
      "検証: loss = 1.157, accuracy = 0.737\n"
     ]
    },
    {
     "name": "stderr",
     "output_type": "stream",
     "text": [
      "[エポック: 15]: 100%|██████████| 1250/1250 [00:21<00:00, 59.43it/s, loss=0.149, accuracy=0.947] \n"
     ]
    },
    {
     "name": "stdout",
     "output_type": "stream",
     "text": [
      "検証: loss = 1.230, accuracy = 0.731\n"
     ]
    },
    {
     "name": "stderr",
     "output_type": "stream",
     "text": [
      "[エポック: 16]: 100%|██████████| 1250/1250 [00:21<00:00, 59.29it/s, loss=0.116, accuracy=0.958] \n"
     ]
    },
    {
     "name": "stdout",
     "output_type": "stream",
     "text": [
      "検証: loss = 1.178, accuracy = 0.741\n"
     ]
    },
    {
     "name": "stderr",
     "output_type": "stream",
     "text": [
      "[エポック: 17]: 100%|██████████| 1250/1250 [00:20<00:00, 59.67it/s, loss=0.0741, accuracy=0.973]\n"
     ]
    },
    {
     "name": "stdout",
     "output_type": "stream",
     "text": [
      "検証: loss = 1.165, accuracy = 0.745\n"
     ]
    },
    {
     "name": "stderr",
     "output_type": "stream",
     "text": [
      "[エポック: 18]: 100%|██████████| 1250/1250 [00:21<00:00, 59.10it/s, loss=0.0866, accuracy=0.969]\n"
     ]
    },
    {
     "name": "stdout",
     "output_type": "stream",
     "text": [
      "検証: loss = 1.234, accuracy = 0.740\n"
     ]
    },
    {
     "name": "stderr",
     "output_type": "stream",
     "text": [
      "[エポック: 19]: 100%|██████████| 1250/1250 [00:20<00:00, 61.88it/s, loss=0.0507, accuracy=0.984]\n"
     ]
    },
    {
     "name": "stdout",
     "output_type": "stream",
     "text": [
      "検証: loss = 1.243, accuracy = 0.748\n"
     ]
    },
    {
     "name": "stderr",
     "output_type": "stream",
     "text": [
      "[エポック: 20]: 100%|██████████| 1250/1250 [00:19<00:00, 62.53it/s, loss=0.055, accuracy=0.983] \n"
     ]
    },
    {
     "name": "stdout",
     "output_type": "stream",
     "text": [
      "検証: loss = 1.252, accuracy = 0.751\n"
     ]
    },
    {
     "name": "stderr",
     "output_type": "stream",
     "text": [
      "[エポック: 21]: 100%|██████████| 1250/1250 [00:20<00:00, 61.43it/s, loss=0.0399, accuracy=0.991]\n"
     ]
    },
    {
     "name": "stdout",
     "output_type": "stream",
     "text": [
      "検証: loss = 1.351, accuracy = 0.744\n"
     ]
    },
    {
     "name": "stderr",
     "output_type": "stream",
     "text": [
      "[エポック: 22]: 100%|██████████| 1250/1250 [00:20<00:00, 61.76it/s, loss=0.0675, accuracy=0.98] \n"
     ]
    },
    {
     "name": "stdout",
     "output_type": "stream",
     "text": [
      "検証: loss = 1.275, accuracy = 0.744\n"
     ]
    },
    {
     "name": "stderr",
     "output_type": "stream",
     "text": [
      "[エポック: 23]: 100%|██████████| 1250/1250 [00:20<00:00, 60.68it/s, loss=0.0456, accuracy=0.983]\n"
     ]
    },
    {
     "name": "stdout",
     "output_type": "stream",
     "text": [
      "検証: loss = 1.302, accuracy = 0.750\n"
     ]
    },
    {
     "name": "stderr",
     "output_type": "stream",
     "text": [
      "[エポック: 24]: 100%|██████████| 1250/1250 [00:20<00:00, 62.20it/s, loss=0.0404, accuracy=0.988]\n"
     ]
    },
    {
     "name": "stdout",
     "output_type": "stream",
     "text": [
      "検証: loss = 1.342, accuracy = 0.754\n"
     ]
    },
    {
     "name": "stderr",
     "output_type": "stream",
     "text": [
      "[エポック: 25]: 100%|██████████| 1250/1250 [00:20<00:00, 62.43it/s, loss=0.0571, accuracy=0.983]\n"
     ]
    },
    {
     "name": "stdout",
     "output_type": "stream",
     "text": [
      "検証: loss = 1.344, accuracy = 0.752\n"
     ]
    },
    {
     "name": "stderr",
     "output_type": "stream",
     "text": [
      "[エポック: 26]: 100%|██████████| 1250/1250 [00:20<00:00, 60.73it/s, loss=0.0433, accuracy=0.984]\n"
     ]
    },
    {
     "name": "stdout",
     "output_type": "stream",
     "text": [
      "検証: loss = 1.389, accuracy = 0.741\n"
     ]
    },
    {
     "name": "stderr",
     "output_type": "stream",
     "text": [
      "[エポック: 27]: 100%|██████████| 1250/1250 [00:21<00:00, 57.11it/s, loss=0.0267, accuracy=0.989]\n"
     ]
    },
    {
     "name": "stdout",
     "output_type": "stream",
     "text": [
      "検証: loss = 1.387, accuracy = 0.753\n"
     ]
    },
    {
     "name": "stderr",
     "output_type": "stream",
     "text": [
      "[エポック: 28]: 100%|██████████| 1250/1250 [00:22<00:00, 55.73it/s, loss=0.0257, accuracy=0.989] \n"
     ]
    },
    {
     "name": "stdout",
     "output_type": "stream",
     "text": [
      "検証: loss = 1.401, accuracy = 0.751\n"
     ]
    },
    {
     "name": "stderr",
     "output_type": "stream",
     "text": [
      "[エポック: 29]: 100%|██████████| 1250/1250 [00:20<00:00, 60.64it/s, loss=0.0402, accuracy=0.981]\n"
     ]
    },
    {
     "name": "stdout",
     "output_type": "stream",
     "text": [
      "検証: loss = 1.425, accuracy = 0.745\n"
     ]
    },
    {
     "name": "stderr",
     "output_type": "stream",
     "text": [
      "[エポック: 30]: 100%|██████████| 1250/1250 [00:22<00:00, 56.01it/s, loss=0.0236, accuracy=0.994]\n"
     ]
    },
    {
     "name": "stdout",
     "output_type": "stream",
     "text": [
      "検証: loss = 1.454, accuracy = 0.752\n",
      "テスト: loss = 0.864, accuracy = 0.707\n"
     ]
    },
    {
     "name": "stderr",
     "output_type": "stream",
     "text": [
      "/opt/conda/lib/python3.8/site-packages/sklearn/manifold/_t_sne.py:800: FutureWarning: The default initialization in TSNE will change from 'random' to 'pca' in 1.2.\n",
      "  warnings.warn(\n",
      "/opt/conda/lib/python3.8/site-packages/sklearn/manifold/_t_sne.py:810: FutureWarning: The default learning rate in TSNE will change from 200.0 to 'auto' in 1.2.\n",
      "  warnings.warn(\n"
     ]
    },
    {
     "data": {
      "image/png": "[encoded data removed]",
      "text/plain": [
       "<Figure size 1440x1080 with 1 Axes>"
      ]
     },
     "metadata": {
      "needs_background": "light"
     },
     "output_type": "display_data"
    }
   ],
   "source": [
    "# 学習・評価の実行\n",
    "train_eval()"
   ]
  },
  {
   "cell_type": "code",
   "execution_count": null,
   "metadata": {},
   "outputs": [],
   "source": []
  }
 ],
 "metadata": {
  "kernelspec": {
   "display_name": "base",
   "language": "python",
   "name": "python3"
  },
  "language_info": {
   "codemirror_mode": {
    "name": "ipython",
    "version": 3
   },
   "file_extension": ".py",
   "mimetype": "text/x-python",
   "name": "python",
   "nbconvert_exporter": "python",
   "pygments_lexer": "ipython3",
   "version": "3.8.13"
  },
  "orig_nbformat": 4
 },
 "nbformat": 4,
 "nbformat_minor": 2
}
